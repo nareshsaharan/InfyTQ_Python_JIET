{
 "cells": [
  {
   "cell_type": "code",
   "execution_count": null,
   "id": "f786709f",
   "metadata": {},
   "outputs": [],
   "source": [
    "class Node:\n",
    "    \n",
    "    def __init__(self, data):\n",
    "        self.data = data\n",
    "        self.left = None\n",
    "        self.right = None"
   ]
  },
  {
   "cell_type": "code",
   "execution_count": null,
   "id": "b8d67025",
   "metadata": {},
   "outputs": [],
   "source": [
    "class BinaryTree:\n",
    "    "
   ]
  },
  {
   "cell_type": "code",
   "execution_count": 2,
   "id": "7f1c6ea5",
   "metadata": {},
   "outputs": [],
   "source": [
    "rootNode = Node(1)\n",
    "leftNode = Node(2)\n",
    "rightNode = Node(3)\n",
    "rootNode.left = leftNode\n",
    "rootNode.right = rightNode"
   ]
  },
  {
   "cell_type": "code",
   "execution_count": 4,
   "id": "3b96c8cd",
   "metadata": {},
   "outputs": [
    {
     "name": "stdout",
     "output_type": "stream",
     "text": [
      "1\n",
      "2\n",
      "3\n"
     ]
    }
   ],
   "source": [
    "print(rootNode.data)\n",
    "print(rootNode.left.data)\n",
    "print(rootNode.right.data)"
   ]
  },
  {
   "cell_type": "code",
   "execution_count": 5,
   "id": "b3a3f54a",
   "metadata": {},
   "outputs": [],
   "source": [
    "def printData(root):\n",
    "    \n",
    "    if root == None:\n",
    "        return\n",
    "    \n",
    "    print(root.data)\n",
    "    printData(root.left)\n",
    "    printData(root.right)"
   ]
  },
  {
   "cell_type": "code",
   "execution_count": 6,
   "id": "fec15571",
   "metadata": {},
   "outputs": [
    {
     "name": "stdout",
     "output_type": "stream",
     "text": [
      "1\n",
      "2\n",
      "3\n"
     ]
    }
   ],
   "source": [
    "printData(rootNode)"
   ]
  },
  {
   "cell_type": "code",
   "execution_count": 20,
   "id": "7c8e3551",
   "metadata": {},
   "outputs": [],
   "source": [
    "root = Node(1)\n",
    "root.left = Node(2)\n",
    "root.left.left = Node(4)\n",
    "root.left.right = Node(5)\n",
    "root.right = Node(3)"
   ]
  },
  {
   "cell_type": "code",
   "execution_count": 10,
   "id": "99b43761",
   "metadata": {},
   "outputs": [
    {
     "name": "stdout",
     "output_type": "stream",
     "text": [
      "1\n",
      "2\n",
      "4\n",
      "5\n",
      "3\n"
     ]
    }
   ],
   "source": [
    "printData(root)"
   ]
  },
  {
   "cell_type": "code",
   "execution_count": 23,
   "id": "e89db506",
   "metadata": {},
   "outputs": [],
   "source": [
    "def printDetailedData(root):\n",
    "    \n",
    "    if root == None:\n",
    "        return\n",
    "    \n",
    "    print(root.data,end =\":\")\n",
    "    \n",
    "    if root.left != None:\n",
    "        print(\"L\",root.left.data,end=\", \")\n",
    "    if root.right != None:\n",
    "        print(\"R\", root.right.data,end=\"\")\n",
    "    print()\n",
    "    \n",
    "    printDetailedData(root.left)\n",
    "    printDetailedData(root.right)"
   ]
  },
  {
   "cell_type": "code",
   "execution_count": 24,
   "id": "089455d5",
   "metadata": {},
   "outputs": [
    {
     "name": "stdout",
     "output_type": "stream",
     "text": [
      "1:L 2, R 3\n",
      "2:L 4, R 5\n",
      "4:\n",
      "5:\n",
      "3:\n"
     ]
    }
   ],
   "source": [
    "printDetailedData(root)"
   ]
  },
  {
   "cell_type": "code",
   "execution_count": 26,
   "id": "a4b00730",
   "metadata": {},
   "outputs": [],
   "source": [
    "def takeInput():\n",
    "    rootData = int(input())\n",
    "    if rootData == -1:\n",
    "        return None\n",
    "    \n",
    "    root = Node(rootData)\n",
    "    leftTree = takeInput()\n",
    "    rightTree = takeInput()\n",
    "    root.left = leftTree\n",
    "    root.right = rightTree\n",
    "    \n",
    "    return root\n",
    "    "
   ]
  },
  {
   "cell_type": "code",
   "execution_count": 27,
   "id": "3f5bc67d",
   "metadata": {},
   "outputs": [
    {
     "name": "stdout",
     "output_type": "stream",
     "text": [
      "1\n",
      "2\n",
      "-1\n",
      "-1\n",
      "3\n",
      "-1\n",
      "-1\n"
     ]
    }
   ],
   "source": [
    "root = takeInput()"
   ]
  },
  {
   "cell_type": "code",
   "execution_count": 28,
   "id": "01c403a7",
   "metadata": {},
   "outputs": [
    {
     "name": "stdout",
     "output_type": "stream",
     "text": [
      "1:L 2, R 3\n",
      "2:\n",
      "3:\n"
     ]
    }
   ],
   "source": [
    "printDetailedData(root)"
   ]
  },
  {
   "cell_type": "code",
   "execution_count": null,
   "id": "f777720a",
   "metadata": {},
   "outputs": [],
   "source": []
  }
 ],
 "metadata": {
  "kernelspec": {
   "display_name": "Python 3 (ipykernel)",
   "language": "python",
   "name": "python3"
  },
  "language_info": {
   "codemirror_mode": {
    "name": "ipython",
    "version": 3
   },
   "file_extension": ".py",
   "mimetype": "text/x-python",
   "name": "python",
   "nbconvert_exporter": "python",
   "pygments_lexer": "ipython3",
   "version": "3.9.7"
  }
 },
 "nbformat": 4,
 "nbformat_minor": 5
}
