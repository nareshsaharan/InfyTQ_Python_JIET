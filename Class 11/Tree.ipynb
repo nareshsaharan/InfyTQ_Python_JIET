{
 "cells": [
  {
   "cell_type": "code",
   "execution_count": 42,
   "id": "f786709f",
   "metadata": {},
   "outputs": [],
   "source": [
    "class Node:\n",
    "    \n",
    "    def __init__(self, data):\n",
    "        self.data = data\n",
    "        self.left = None\n",
    "        self.right = None"
   ]
  },
  {
   "cell_type": "code",
   "execution_count": 43,
   "id": "b8d67025",
   "metadata": {},
   "outputs": [
    {
     "ename": "IndentationError",
     "evalue": "expected an indented block (1645754635.py, line 2)",
     "output_type": "error",
     "traceback": [
      "\u001b[0;36m  File \u001b[0;32m\"/var/folders/js/y6tppz5n6t72mb46qnkgxblc0000gq/T/ipykernel_1466/1645754635.py\"\u001b[0;36m, line \u001b[0;32m2\u001b[0m\n\u001b[0;31m    \u001b[0m\n\u001b[0m    ^\u001b[0m\n\u001b[0;31mIndentationError\u001b[0m\u001b[0;31m:\u001b[0m expected an indented block\n"
     ]
    }
   ],
   "source": [
    "class BinaryTree:\n",
    "    "
   ]
  },
  {
   "cell_type": "code",
   "execution_count": null,
   "id": "7f1c6ea5",
   "metadata": {},
   "outputs": [],
   "source": [
    "rootNode = Node(1)\n",
    "leftNode = Node(2)\n",
    "rightNode = Node(3)\n",
    "rootNode.left = leftNode\n",
    "rootNode.right = rightNode"
   ]
  },
  {
   "cell_type": "code",
   "execution_count": null,
   "id": "3b96c8cd",
   "metadata": {},
   "outputs": [],
   "source": [
    "print(rootNode.data)\n",
    "print(rootNode.left.data)\n",
    "print(rootNode.right.data)"
   ]
  },
  {
   "cell_type": "code",
   "execution_count": null,
   "id": "b3a3f54a",
   "metadata": {},
   "outputs": [],
   "source": [
    "def printData(root):\n",
    "    \n",
    "    if root == None:\n",
    "        return\n",
    "    \n",
    "    print(root.data)\n",
    "    printData(root.left)\n",
    "    printData(root.right)"
   ]
  },
  {
   "cell_type": "code",
   "execution_count": null,
   "id": "fec15571",
   "metadata": {},
   "outputs": [],
   "source": [
    "printData(rootNode)"
   ]
  },
  {
   "cell_type": "code",
   "execution_count": null,
   "id": "7c8e3551",
   "metadata": {},
   "outputs": [],
   "source": [
    "root = Node(1)\n",
    "root.left = Node(2)\n",
    "root.left.left = Node(4)\n",
    "root.left.right = Node(5)\n",
    "root.right = Node(3)"
   ]
  },
  {
   "cell_type": "code",
   "execution_count": 44,
   "id": "99b43761",
   "metadata": {},
   "outputs": [
    {
     "ename": "NameError",
     "evalue": "name 'printData' is not defined",
     "output_type": "error",
     "traceback": [
      "\u001b[0;31m---------------------------------------------------------------------------\u001b[0m",
      "\u001b[0;31mNameError\u001b[0m                                 Traceback (most recent call last)",
      "\u001b[0;32m/var/folders/js/y6tppz5n6t72mb46qnkgxblc0000gq/T/ipykernel_1466/1424381854.py\u001b[0m in \u001b[0;36m<module>\u001b[0;34m\u001b[0m\n\u001b[0;32m----> 1\u001b[0;31m \u001b[0mprintData\u001b[0m\u001b[0;34m(\u001b[0m\u001b[0mroot\u001b[0m\u001b[0;34m)\u001b[0m\u001b[0;34m\u001b[0m\u001b[0;34m\u001b[0m\u001b[0m\n\u001b[0m",
      "\u001b[0;31mNameError\u001b[0m: name 'printData' is not defined"
     ]
    }
   ],
   "source": [
    "printData(root)"
   ]
  },
  {
   "cell_type": "code",
   "execution_count": null,
   "id": "e89db506",
   "metadata": {},
   "outputs": [],
   "source": [
    "def printDetailedData(root):\n",
    "    \n",
    "    if root == None:\n",
    "        return\n",
    "    \n",
    "    print(root.data,end =\":\")\n",
    "    \n",
    "    if root.left != None:\n",
    "        print(\"L\",root.left.data,end=\", \")\n",
    "    if root.right != None:\n",
    "        print(\"R\", root.right.data,end=\"\")\n",
    "    print()\n",
    "    \n",
    "    printDetailedData(root.left)\n",
    "    printDetailedData(root.right)"
   ]
  },
  {
   "cell_type": "code",
   "execution_count": null,
   "id": "089455d5",
   "metadata": {},
   "outputs": [],
   "source": [
    "printDetailedData(root)"
   ]
  },
  {
   "cell_type": "code",
   "execution_count": null,
   "id": "a4b00730",
   "metadata": {},
   "outputs": [],
   "source": [
    "def takeInput():\n",
    "    rootData = int(input())\n",
    "    if rootData == -1:\n",
    "        return None\n",
    "    \n",
    "    root = Node(rootData)\n",
    "    leftTree = takeInput()\n",
    "    rightTree = takeInput()\n",
    "    root.left = leftTree\n",
    "    root.right = rightTree\n",
    "    \n",
    "    return root\n",
    "    "
   ]
  },
  {
   "cell_type": "code",
   "execution_count": null,
   "id": "3f5bc67d",
   "metadata": {},
   "outputs": [],
   "source": [
    "root = takeInput()"
   ]
  },
  {
   "cell_type": "code",
   "execution_count": null,
   "id": "01c403a7",
   "metadata": {},
   "outputs": [],
   "source": [
    "printDetailedData(root)"
   ]
  },
  {
   "cell_type": "code",
   "execution_count": null,
   "id": "f777720a",
   "metadata": {},
   "outputs": [],
   "source": [
    "import queue\n",
    "def takeInputLevelWise():\n",
    "    q = queue.Queue()\n",
    "    print(\"Enter root\")\n",
    "    rootData = int(input())\n",
    "    if rootData == -1:\n",
    "        return None\n",
    "    \n",
    "    root = Node(rootData)\n",
    "    q.put(root)\n",
    "    \n",
    "    while not q.empty():\n",
    "        currNode = q.get()\n",
    "        print(\"Enter Left child of\", currNode.data)\n",
    "        leftChild = int(input())\n",
    "        if leftChild != -1:\n",
    "            leftChildNode = Node(leftChild)\n",
    "            currNode.left = leftChildNode\n",
    "            q.put(leftChildNode)\n",
    "        \n",
    "        print(\"Enter right child of\", currNode.data)\n",
    "        rightChild = int(input())\n",
    "        if rightChild != -1:\n",
    "            rightChildNode = Node(rightChild)\n",
    "            currNode.right = rightChildNode\n",
    "            q.put(rightChildNode)\n",
    "            \n",
    "    return root\n",
    "    \n",
    "    "
   ]
  },
  {
   "cell_type": "code",
   "execution_count": null,
   "id": "63e7dbc8",
   "metadata": {},
   "outputs": [],
   "source": [
    "root = takeInputLevelWise()"
   ]
  },
  {
   "cell_type": "code",
   "execution_count": null,
   "id": "43b8246e",
   "metadata": {},
   "outputs": [],
   "source": [
    "printDetailedData(root)"
   ]
  },
  {
   "cell_type": "code",
   "execution_count": null,
   "id": "152c92db",
   "metadata": {},
   "outputs": [],
   "source": [
    "def preOrder(root):\n",
    "    if root == None:\n",
    "        return\n",
    "    \n",
    "    print(root.data,end=\" \")\n",
    "    preOrder(root.left)\n",
    "    preOrder(root.right)"
   ]
  },
  {
   "cell_type": "code",
   "execution_count": null,
   "id": "06cea9f4",
   "metadata": {},
   "outputs": [],
   "source": [
    "def inOrder(root):\n",
    "    if root == None:\n",
    "        return\n",
    "    \n",
    "    inOrder(root.left)\n",
    "    print(root.data,end=\" \")\n",
    "    inOrder(root.right)"
   ]
  },
  {
   "cell_type": "code",
   "execution_count": null,
   "id": "0b5551f0",
   "metadata": {},
   "outputs": [],
   "source": [
    "def postOrder(root):\n",
    "    if root == None:\n",
    "        return\n",
    "    \n",
    "    postOrder(root.left)\n",
    "    postOrder(root.right)\n",
    "    print(root.data,end=\" \")"
   ]
  },
  {
   "cell_type": "code",
   "execution_count": null,
   "id": "8d2e4040",
   "metadata": {},
   "outputs": [],
   "source": [
    "print(\"preOrder\",end=\" \")\n",
    "preOrder(root)\n",
    "print()\n",
    "print(\"inOrder\",end=\" \")\n",
    "inOrder(root)\n",
    "print()\n",
    "print(\"postOrder\",end=\" \")\n",
    "postOrder(root)\n",
    "print()"
   ]
  },
  {
   "cell_type": "code",
   "execution_count": 45,
   "id": "714e666d",
   "metadata": {},
   "outputs": [],
   "source": [
    "def numOfNodes(root):\n",
    "    if root == None:\n",
    "        return 0\n",
    "    \n",
    "    noOfNodesFromLeft = numOfNodes(root.left)\n",
    "    noOfNodesFromRight = numOfNodes(root.right)\n",
    "    myAns = 1 + noOfNodesFromLeft + noOfNodesFromRight\n",
    "    \n",
    "    return myAns"
   ]
  },
  {
   "cell_type": "code",
   "execution_count": 46,
   "id": "c6bbd6a1",
   "metadata": {},
   "outputs": [
    {
     "name": "stdout",
     "output_type": "stream",
     "text": [
      "5\n"
     ]
    }
   ],
   "source": [
    "print(numOfNodes(root))"
   ]
  },
  {
   "cell_type": "code",
   "execution_count": 47,
   "id": "275555ae",
   "metadata": {},
   "outputs": [],
   "source": [
    "def sumOfNode(root):\n",
    "    \n",
    "    if root == None:\n",
    "        return 0\n",
    "    \n",
    "    leftSum = sumOfNode(root.left)\n",
    "    rightSum = sumOfNode(root.right)\n",
    "    \n",
    "    myAns = root.data + leftSum + rightSum\n",
    "    \n",
    "    return myAns"
   ]
  },
  {
   "cell_type": "code",
   "execution_count": 48,
   "id": "2ad57303",
   "metadata": {},
   "outputs": [
    {
     "name": "stdout",
     "output_type": "stream",
     "text": [
      "56\n"
     ]
    }
   ],
   "source": [
    "print(sumOfNode(root))"
   ]
  },
  {
   "cell_type": "code",
   "execution_count": 49,
   "id": "33772e29",
   "metadata": {},
   "outputs": [],
   "source": [
    "def numoOfLeafNodes(root):\n",
    "    if root == None:\n",
    "        return 0\n",
    "    \n",
    "    leftAns = numoOfLeafNodes(root.left)\n",
    "    rightAns = numoOfLeafNodes(root.right)\n",
    "    \n",
    "    myAns = leftAns + rightAns\n",
    "    \n",
    "    if root.left == None and root.right == None:\n",
    "        myAns += 1\n",
    "    \n",
    "    return myAns\n",
    "    \n",
    "    "
   ]
  },
  {
   "cell_type": "code",
   "execution_count": 50,
   "id": "f11cc04b",
   "metadata": {},
   "outputs": [
    {
     "name": "stdout",
     "output_type": "stream",
     "text": [
      "2\n"
     ]
    }
   ],
   "source": [
    "print(numoOfLeafNodes(root))"
   ]
  },
  {
   "cell_type": "code",
   "execution_count": 51,
   "id": "4002b6b7",
   "metadata": {},
   "outputs": [],
   "source": [
    "import math\n",
    "def maximumNode(root):\n",
    "    if root == None:\n",
    "        return -1*math.inf\n",
    "        \n",
    "        \n",
    "    leftMax = maximumNode(root.left)\n",
    "    rightMax = maximumNode(root.right)\n",
    "    \n",
    "    myAns = max(root.data, leftMax, rightMax)\n",
    "    return myAns"
   ]
  },
  {
   "cell_type": "code",
   "execution_count": 52,
   "id": "87f23740",
   "metadata": {},
   "outputs": [
    {
     "name": "stdout",
     "output_type": "stream",
     "text": [
      "20\n"
     ]
    }
   ],
   "source": [
    "print(maximumNode(root))"
   ]
  },
  {
   "cell_type": "code",
   "execution_count": 53,
   "id": "210f00a7",
   "metadata": {},
   "outputs": [],
   "source": [
    "def printMaxThanX(root, x):\n",
    "    if root == None:\n",
    "        return\n",
    "    \n",
    "    printMaxThanX(root.left, x)\n",
    "    printMaxThanX(root.right, x)\n",
    "    \n",
    "    if root.data > x:\n",
    "        print(root.data)\n",
    "        \n",
    "    "
   ]
  },
  {
   "cell_type": "code",
   "execution_count": 54,
   "id": "3be6ee19",
   "metadata": {},
   "outputs": [
    {
     "name": "stdout",
     "output_type": "stream",
     "text": [
      "5\n",
      "8\n",
      "13\n",
      "20\n",
      "10\n"
     ]
    }
   ],
   "source": [
    "printMaxThanX(root, 3)"
   ]
  },
  {
   "cell_type": "code",
   "execution_count": 55,
   "id": "9bb138b9",
   "metadata": {},
   "outputs": [],
   "source": [
    "def height(root):\n",
    "    if root == None:\n",
    "        return 0\n",
    "    \n",
    "    lh = height(root.left)\n",
    "    rh = height(root.right)\n",
    "    \n",
    "    myAns = max(lh, rh) + 1\n",
    "    \n",
    "    return myAns"
   ]
  },
  {
   "cell_type": "code",
   "execution_count": 56,
   "id": "c2c7ddda",
   "metadata": {},
   "outputs": [
    {
     "name": "stdout",
     "output_type": "stream",
     "text": [
      "3\n"
     ]
    }
   ],
   "source": [
    "print(height(root))"
   ]
  },
  {
   "cell_type": "code",
   "execution_count": 57,
   "id": "e3085f78",
   "metadata": {},
   "outputs": [],
   "source": [
    "def diameter(root):\n",
    "    if root == None:\n",
    "        return 0\n",
    "    \n",
    "    lh = height(root.left)\n",
    "    rh = height(root.right)\n",
    "    \n",
    "    ld = diameter(root.left)\n",
    "    rd = diameter(root.right)\n",
    "    \n",
    "    myAns = max(lh + rh + 1, ld, rd)\n",
    "    \n",
    "    return myAns\n",
    "    "
   ]
  },
  {
   "cell_type": "code",
   "execution_count": 58,
   "id": "87392b70",
   "metadata": {},
   "outputs": [
    {
     "data": {
      "text/plain": [
       "5"
      ]
     },
     "execution_count": 58,
     "metadata": {},
     "output_type": "execute_result"
    }
   ],
   "source": [
    "diameter(root)"
   ]
  },
  {
   "cell_type": "code",
   "execution_count": null,
   "id": "3a34b6d7",
   "metadata": {},
   "outputs": [],
   "source": []
  },
  {
   "cell_type": "code",
   "execution_count": 59,
   "id": "80f6adbe",
   "metadata": {},
   "outputs": [],
   "source": [
    "#BST"
   ]
  },
  {
   "cell_type": "code",
   "execution_count": 60,
   "id": "1c46496b",
   "metadata": {},
   "outputs": [],
   "source": [
    "def insert(root, data):\n",
    "    if root == None:\n",
    "        return Node(data)\n",
    "    \n",
    "    if root.data == data:\n",
    "        return root\n",
    "    elif root.data < data:\n",
    "        root.right = insert(root.right, data)\n",
    "    else:\n",
    "        root.left = insert(root.left, data)\n",
    "        \n",
    "    return root"
   ]
  },
  {
   "cell_type": "code",
   "execution_count": 61,
   "id": "2212f91a",
   "metadata": {},
   "outputs": [
    {
     "name": "stdout",
     "output_type": "stream",
     "text": [
      "5 8 10 13 20 "
     ]
    }
   ],
   "source": [
    "l = [10, 20, 13, 8, 5]\n",
    "root = None\n",
    "for curr in l:\n",
    "    root = insert(root, curr)\n",
    "    \n",
    "inOrder(root)"
   ]
  },
  {
   "cell_type": "code",
   "execution_count": 66,
   "id": "0c2c5213",
   "metadata": {},
   "outputs": [],
   "source": [
    "def insertItr(root, data):\n",
    "    if root == None:\n",
    "        return Node(data)\n",
    "    \n",
    "    prev = None\n",
    "    curr = root\n",
    "    \n",
    "    while curr != None:\n",
    "        if curr.data == data:\n",
    "            return root\n",
    "        elif curr.data > data:\n",
    "            prev = curr\n",
    "            curr = curr.left\n",
    "        else:\n",
    "            prev = curr\n",
    "            curr = curr.right\n",
    "            \n",
    "    if prev.data > data:\n",
    "        prev.left = Node(data)\n",
    "    else:\n",
    "        prev.right = Node(data)\n",
    "        \n",
    "    return root"
   ]
  },
  {
   "cell_type": "code",
   "execution_count": 67,
   "id": "c577aa3c",
   "metadata": {},
   "outputs": [
    {
     "name": "stdout",
     "output_type": "stream",
     "text": [
      "5 8 10 13 20 "
     ]
    }
   ],
   "source": [
    "l = [10, 20, 13, 8, 5, 5, 5]\n",
    "root = None\n",
    "for curr in l:\n",
    "    root = insertItr(root, curr)\n",
    "    \n",
    "inOrder(root)"
   ]
  },
  {
   "cell_type": "code",
   "execution_count": null,
   "id": "7036f3a8",
   "metadata": {},
   "outputs": [],
   "source": []
  },
  {
   "cell_type": "code",
   "execution_count": 68,
   "id": "93c7569e",
   "metadata": {},
   "outputs": [],
   "source": [
    "def search(root, data):\n",
    "    if root == None:\n",
    "        return False\n",
    "    \n",
    "    if root.data == data:\n",
    "        return True\n",
    "    \n",
    "    if root.data < data:\n",
    "        return search(root.right, data)\n",
    "    else:\n",
    "        return search(root.left, data)\n",
    "        "
   ]
  },
  {
   "cell_type": "code",
   "execution_count": 70,
   "id": "0e60ab3d",
   "metadata": {},
   "outputs": [
    {
     "name": "stdout",
     "output_type": "stream",
     "text": [
      "False\n"
     ]
    }
   ],
   "source": [
    "print(search(root, 12))"
   ]
  },
  {
   "cell_type": "code",
   "execution_count": null,
   "id": "6c14e463",
   "metadata": {},
   "outputs": [],
   "source": []
  },
  {
   "cell_type": "code",
   "execution_count": null,
   "id": "51b77677",
   "metadata": {},
   "outputs": [],
   "source": []
  },
  {
   "cell_type": "code",
   "execution_count": null,
   "id": "4246fd10",
   "metadata": {},
   "outputs": [],
   "source": []
  },
  {
   "cell_type": "code",
   "execution_count": null,
   "id": "7100f9ec",
   "metadata": {},
   "outputs": [],
   "source": []
  }
 ],
 "metadata": {
  "kernelspec": {
   "display_name": "Python 3 (ipykernel)",
   "language": "python",
   "name": "python3"
  },
  "language_info": {
   "codemirror_mode": {
    "name": "ipython",
    "version": 3
   },
   "file_extension": ".py",
   "mimetype": "text/x-python",
   "name": "python",
   "nbconvert_exporter": "python",
   "pygments_lexer": "ipython3",
   "version": "3.9.7"
  }
 },
 "nbformat": 4,
 "nbformat_minor": 5
}
