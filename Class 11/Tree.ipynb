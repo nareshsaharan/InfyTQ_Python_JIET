{
 "cells": [
  {
   "cell_type": "code",
   "execution_count": null,
   "id": "f786709f",
   "metadata": {},
   "outputs": [],
   "source": [
    "class Node:\n",
    "    \n",
    "    def __init__(self, data):\n",
    "        self.data = data\n",
    "        self.left = None\n",
    "        self.right = None"
   ]
  },
  {
   "cell_type": "code",
   "execution_count": null,
   "id": "b8d67025",
   "metadata": {},
   "outputs": [],
   "source": [
    "class BinaryTree:\n",
    "    "
   ]
  },
  {
   "cell_type": "code",
   "execution_count": 2,
   "id": "7f1c6ea5",
   "metadata": {},
   "outputs": [],
   "source": [
    "rootNode = Node(1)\n",
    "leftNode = Node(2)\n",
    "rightNode = Node(3)\n",
    "rootNode.left = leftNode\n",
    "rootNode.right = rightNode"
   ]
  },
  {
   "cell_type": "code",
   "execution_count": 4,
   "id": "3b96c8cd",
   "metadata": {},
   "outputs": [
    {
     "name": "stdout",
     "output_type": "stream",
     "text": [
      "1\n",
      "2\n",
      "3\n"
     ]
    }
   ],
   "source": [
    "print(rootNode.data)\n",
    "print(rootNode.left.data)\n",
    "print(rootNode.right.data)"
   ]
  },
  {
   "cell_type": "code",
   "execution_count": 5,
   "id": "b3a3f54a",
   "metadata": {},
   "outputs": [],
   "source": [
    "def printData(root):\n",
    "    \n",
    "    if root == None:\n",
    "        return\n",
    "    \n",
    "    print(root.data)\n",
    "    printData(root.left)\n",
    "    printData(root.right)"
   ]
  },
  {
   "cell_type": "code",
   "execution_count": 6,
   "id": "fec15571",
   "metadata": {},
   "outputs": [
    {
     "name": "stdout",
     "output_type": "stream",
     "text": [
      "1\n",
      "2\n",
      "3\n"
     ]
    }
   ],
   "source": [
    "printData(rootNode)"
   ]
  },
  {
   "cell_type": "code",
   "execution_count": 20,
   "id": "7c8e3551",
   "metadata": {},
   "outputs": [],
   "source": [
    "root = Node(1)\n",
    "root.left = Node(2)\n",
    "root.left.left = Node(4)\n",
    "root.left.right = Node(5)\n",
    "root.right = Node(3)"
   ]
  },
  {
   "cell_type": "code",
   "execution_count": 10,
   "id": "99b43761",
   "metadata": {},
   "outputs": [
    {
     "name": "stdout",
     "output_type": "stream",
     "text": [
      "1\n",
      "2\n",
      "4\n",
      "5\n",
      "3\n"
     ]
    }
   ],
   "source": [
    "printData(root)"
   ]
  },
  {
   "cell_type": "code",
   "execution_count": 23,
   "id": "e89db506",
   "metadata": {},
   "outputs": [],
   "source": [
    "def printDetailedData(root):\n",
    "    \n",
    "    if root == None:\n",
    "        return\n",
    "    \n",
    "    print(root.data,end =\":\")\n",
    "    \n",
    "    if root.left != None:\n",
    "        print(\"L\",root.left.data,end=\", \")\n",
    "    if root.right != None:\n",
    "        print(\"R\", root.right.data,end=\"\")\n",
    "    print()\n",
    "    \n",
    "    printDetailedData(root.left)\n",
    "    printDetailedData(root.right)"
   ]
  },
  {
   "cell_type": "code",
   "execution_count": 24,
   "id": "089455d5",
   "metadata": {},
   "outputs": [
    {
     "name": "stdout",
     "output_type": "stream",
     "text": [
      "1:L 2, R 3\n",
      "2:L 4, R 5\n",
      "4:\n",
      "5:\n",
      "3:\n"
     ]
    }
   ],
   "source": [
    "printDetailedData(root)"
   ]
  },
  {
   "cell_type": "code",
   "execution_count": 26,
   "id": "a4b00730",
   "metadata": {},
   "outputs": [],
   "source": [
    "def takeInput():\n",
    "    rootData = int(input())\n",
    "    if rootData == -1:\n",
    "        return None\n",
    "    \n",
    "    root = Node(rootData)\n",
    "    leftTree = takeInput()\n",
    "    rightTree = takeInput()\n",
    "    root.left = leftTree\n",
    "    root.right = rightTree\n",
    "    \n",
    "    return root\n",
    "    "
   ]
  },
  {
   "cell_type": "code",
   "execution_count": 27,
   "id": "3f5bc67d",
   "metadata": {},
   "outputs": [
    {
     "name": "stdout",
     "output_type": "stream",
     "text": [
      "1\n",
      "2\n",
      "-1\n",
      "-1\n",
      "3\n",
      "-1\n",
      "-1\n"
     ]
    }
   ],
   "source": [
    "root = takeInput()"
   ]
  },
  {
   "cell_type": "code",
   "execution_count": 28,
   "id": "01c403a7",
   "metadata": {},
   "outputs": [
    {
     "name": "stdout",
     "output_type": "stream",
     "text": [
      "1:L 2, R 3\n",
      "2:\n",
      "3:\n"
     ]
    }
   ],
   "source": [
    "printDetailedData(root)"
   ]
  },
  {
   "cell_type": "code",
   "execution_count": 38,
   "id": "f777720a",
   "metadata": {},
   "outputs": [],
   "source": [
    "import queue\n",
    "def takeInputLevelWise():\n",
    "    q = queue.Queue()\n",
    "    print(\"Enter root\")\n",
    "    rootData = int(input())\n",
    "    if rootData == -1:\n",
    "        return None\n",
    "    \n",
    "    root = Node(rootData)\n",
    "    q.put(root)\n",
    "    \n",
    "    while not q.empty():\n",
    "        currNode = q.get()\n",
    "        print(\"Enter Left child of\", currNode.data)\n",
    "        leftChild = int(input())\n",
    "        if leftChild != -1:\n",
    "            leftChildNode = Node(leftChild)\n",
    "            currNode.left = leftChildNode\n",
    "            q.put(leftChildNode)\n",
    "        \n",
    "        print(\"Enter right child of\", currNode.data)\n",
    "        rightChild = int(input())\n",
    "        if rightChild != -1:\n",
    "            rightChildNode = Node(rightChild)\n",
    "            currNode.right = rightChildNode\n",
    "            q.put(rightChildNode)\n",
    "            \n",
    "    return root\n",
    "    \n",
    "    "
   ]
  },
  {
   "cell_type": "code",
   "execution_count": 44,
   "id": "0bc5529c",
   "metadata": {},
   "outputs": [
    {
     "name": "stdout",
     "output_type": "stream",
     "text": [
      "Enter root\n",
      "1\n",
      "Enter Left child of  1\n",
      "2\n",
      "Enter right child of  1\n",
      "3\n",
      "Enter Left child of  2\n",
      "4\n",
      "Enter right child of  2\n",
      "-1\n",
      "Enter Left child of  3\n",
      "-1\n",
      "Enter right child of  3\n",
      "-1\n",
      "Enter Left child of  4\n",
      "-1\n",
      "Enter right child of  4\n",
      "-1\n"
     ]
    }
   ],
   "source": [
    "root = takeInputLevelWise()"
   ]
  },
  {
   "cell_type": "code",
   "execution_count": 40,
   "id": "43b8246e",
   "metadata": {},
   "outputs": [
    {
     "name": "stdout",
     "output_type": "stream",
     "text": [
      "1:L 2, R 3\n",
      "2:\n",
      "3:\n"
     ]
    }
   ],
   "source": [
    "printDetailedData(root)"
   ]
  },
  {
   "cell_type": "code",
   "execution_count": 47,
   "id": "152c92db",
   "metadata": {},
   "outputs": [],
   "source": [
    "def preOrder(root):\n",
    "    if root == None:\n",
    "        return\n",
    "    \n",
    "    print(root.data,end=\" \")\n",
    "    preOrder(root.left)\n",
    "    preOrder(root.right)"
   ]
  },
  {
   "cell_type": "code",
   "execution_count": 42,
   "id": "06cea9f4",
   "metadata": {},
   "outputs": [],
   "source": [
    "def inOrder(root):\n",
    "    if root == None:\n",
    "        return\n",
    "    \n",
    "    inOrder(root.left)\n",
    "    print(root.data,end=\" \")\n",
    "    inOrder(root.right)"
   ]
  },
  {
   "cell_type": "code",
   "execution_count": 43,
   "id": "0b5551f0",
   "metadata": {},
   "outputs": [],
   "source": [
    "def postOrder(root):\n",
    "    if root == None:\n",
    "        return\n",
    "    \n",
    "    postOrder(root.left)\n",
    "    postOrder(root.right)\n",
    "    print(root.data,end=\" \")"
   ]
  },
  {
   "cell_type": "code",
   "execution_count": 48,
   "id": "8d2e4040",
   "metadata": {},
   "outputs": [
    {
     "name": "stdout",
     "output_type": "stream",
     "text": [
      "preOrder 1 2 4 3 \n",
      "inOrder 4 2 1 3 \n",
      "postOrder 4 2 3 1 \n"
     ]
    }
   ],
   "source": [
    "print(\"preOrder\",end=\" \")\n",
    "preOrder(root)\n",
    "print()\n",
    "print(\"inOrder\",end=\" \")\n",
    "inOrder(root)\n",
    "print()\n",
    "print(\"postOrder\",end=\" \")\n",
    "postOrder(root)\n",
    "print()"
   ]
  },
  {
   "cell_type": "code",
   "execution_count": 49,
   "id": "714e666d",
   "metadata": {},
   "outputs": [],
   "source": [
    "def numOfNodes(root):\n",
    "    if root == None:\n",
    "        return 0\n",
    "    \n",
    "    noOfNodesFromLeft = numOfNodes(root.left)\n",
    "    noOfNodesFromRight = numOfNodes(root.right)\n",
    "    myAns = 1 + noOfNodesFromLeft + noOfNodesFromRight\n",
    "    \n",
    "    return myAns"
   ]
  },
  {
   "cell_type": "code",
   "execution_count": 50,
   "id": "c6bbd6a1",
   "metadata": {},
   "outputs": [
    {
     "name": "stdout",
     "output_type": "stream",
     "text": [
      "4\n"
     ]
    }
   ],
   "source": [
    "print(numOfNodes(root))"
   ]
  },
  {
   "cell_type": "code",
   "execution_count": 51,
   "id": "275555ae",
   "metadata": {},
   "outputs": [],
   "source": [
    "def sumOfNode(root):\n",
    "    \n",
    "    if root == None:\n",
    "        return 0\n",
    "    \n",
    "    leftSum = sumOfNode(root.left)\n",
    "    rightSum = sumOfNode(root.right)\n",
    "    \n",
    "    myAns = root.data + leftSum + rightSum\n",
    "    \n",
    "    return myAns"
   ]
  },
  {
   "cell_type": "code",
   "execution_count": 52,
   "id": "2ad57303",
   "metadata": {},
   "outputs": [
    {
     "name": "stdout",
     "output_type": "stream",
     "text": [
      "10\n"
     ]
    }
   ],
   "source": [
    "print(sumOfNode(root))"
   ]
  },
  {
   "cell_type": "code",
   "execution_count": 57,
   "id": "33772e29",
   "metadata": {},
   "outputs": [],
   "source": [
    "def numoOfLeafNodes(root):\n",
    "    if root == None:\n",
    "        return 0\n",
    "    \n",
    "    leftAns = numoOfLeafNodes(root.left)\n",
    "    rightAns = numoOfLeafNodes(root.right)\n",
    "    \n",
    "    myAns = leftAns + rightAns\n",
    "    \n",
    "    if root.left == None and root.right == None:\n",
    "        myAns += 1\n",
    "    \n",
    "    return myAns\n",
    "    \n",
    "    "
   ]
  },
  {
   "cell_type": "code",
   "execution_count": 58,
   "id": "f11cc04b",
   "metadata": {},
   "outputs": [
    {
     "name": "stdout",
     "output_type": "stream",
     "text": [
      "2\n"
     ]
    }
   ],
   "source": [
    "print(numoOfLeafNodes(root))"
   ]
  },
  {
   "cell_type": "code",
   "execution_count": null,
   "id": "4002b6b7",
   "metadata": {},
   "outputs": [],
   "source": []
  }
 ],
 "metadata": {
  "kernelspec": {
   "display_name": "Python 3 (ipykernel)",
   "language": "python",
   "name": "python3"
  },
  "language_info": {
   "codemirror_mode": {
    "name": "ipython",
    "version": 3
   },
   "file_extension": ".py",
   "mimetype": "text/x-python",
   "name": "python",
   "nbconvert_exporter": "python",
   "pygments_lexer": "ipython3",
   "version": "3.9.7"
  }
 },
 "nbformat": 4,
 "nbformat_minor": 5
}
