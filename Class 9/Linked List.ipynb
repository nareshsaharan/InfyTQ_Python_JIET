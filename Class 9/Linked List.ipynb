{
 "cells": [
  {
   "cell_type": "code",
   "execution_count": 1,
   "id": "7b6cf5fa",
   "metadata": {},
   "outputs": [],
   "source": [
    "class Node:\n",
    "    def __init__(self, data):\n",
    "        self.data = data\n",
    "        self.next = None"
   ]
  },
  {
   "cell_type": "code",
   "execution_count": null,
   "id": "902f0781",
   "metadata": {},
   "outputs": [],
   "source": [
    "class LinkedList:\n",
    "    \n",
    "    def takeInput(self, li):\n",
    "        \n",
    "        head = None\n",
    "        si = 0 \n",
    "        temp = head\n",
    "        while li[si] != -1:\n",
    "            \n",
    "            newNode = Node(li[si])\n",
    "            \n",
    "            if head == None:\n",
    "                head = newNode\n",
    "                temp = head\n",
    "            else:\n",
    "                temp.next = newNode\n",
    "                temp = temp.next\n",
    "                \n",
    "            si = si + 1\n",
    "        return head\n",
    "    \n",
    "    def display(self, head):\n",
    "        \n",
    "        while head != None:\n",
    "            print(head.data, end=\"->\")\n",
    "            head = head.next\n",
    "            \n",
    "    def lenOfLL(self, head):\n",
    "        \n",
    "        cnt = 0\n",
    "        while head != None:\n",
    "            cnt += 1\n",
    "            head = head.next\n",
    "            \n",
    "        return cnt\n",
    "    \n",
    "    def addAtithPos(self, head, data, ind):\n",
    "        \n",
    "        newNode = Node(data)\n",
    "        \n",
    "        if ind == 0:\n",
    "            newNode.next = head\n",
    "            head = newNode\n",
    "            return head\n",
    "        \n",
    "        prev = None\n",
    "        curr = head\n",
    "        cnt = 0\n",
    "        while curr != None:\n",
    "            \n",
    "            if cnt == ind:\n",
    "                prev.next = newNode\n",
    "                newNode.next = curr\n",
    "                return head\n",
    "            \n",
    "            prev = curr\n",
    "            curr = curr.next\n",
    "            cnt += 1\n",
    "            \n",
    "        return head\n",
    "    \n",
    "    def removeAtitPos(self, head, pos):\n",
    "        \n",
    "        if head == None:\n",
    "            return head\n",
    "        \n",
    "        if pos == 0:\n",
    "            return head.next\n",
    "        \n",
    "        prev = None\n",
    "        curr = head\n",
    "        cnt = 0\n",
    "        while curr != None:\n",
    "            if cnt == pos:\n",
    "                prev.next = curr.next\n",
    "                return head\n",
    "            \n",
    "            prev = curr\n",
    "            curr = curr.next\n",
    "            cnt += 1\n",
    "            \n",
    "        return head\n",
    "    \n",
    "    def lenRev(self, head):\n",
    "        \n",
    "        # base case\n",
    "        if head == None:\n",
    "            return 0\n",
    "        \n",
    "        # rec ans\n",
    "        recAns = self.lenRev(head.next)\n",
    "        \n",
    "        # my ans\n",
    "        myAns = 1 + recAns\n",
    "        \n",
    "        return myAns\n",
    "    \n",
    "    \n",
    "    def insertAtIthPosRec(self, head, data, pos):\n",
    "        \n",
    "        # Base  case\n",
    "        if head == None:\n",
    "            if pos == 0:\n",
    "                newNode = Node(data)\n",
    "                return newNode\n",
    "            else:\n",
    "                return None\n",
    "            \n",
    "            \n",
    "        if pos == 0:\n",
    "            newNode = Node(data)\n",
    "            newNode.next  = head\n",
    "            head = newNode\n",
    "            return head\n",
    "            \n",
    "            \n",
    "        # Rec Ans\n",
    "        \n",
    "        smallHead = self.insertAtIthPosRec(head.next, data, pos - 1)\n",
    "        \n",
    "        head.next = smallHead\n",
    "        \n",
    "        return head\n",
    "    \n",
    "    \n",
    "    def removeIthPosRec(self, head, pos):\n",
    "        \n",
    "        \n",
    "        if head == None:\n",
    "            return head\n",
    "        \n",
    "        \n",
    "        if pos == 0:\n",
    "            return head.next\n",
    "        \n",
    "        smallHead = self.removeIthPosRec(head.next, pos-1)\n",
    "        \n",
    "        head.next = smallHead\n",
    "        \n",
    "        return head\n",
    "            \n",
    "            \n",
    "            \n",
    "        \n",
    "                \n",
    "            \n",
    "            \n",
    "    "
   ]
  },
  {
   "cell_type": "code",
   "execution_count": null,
   "id": "a2baca01",
   "metadata": {},
   "outputs": [],
   "source": [
    "li = [int(i) for i in input().split()]\n",
    "llobj = LinkedList()\n",
    "head = llobj.takeInput(li)\n",
    "llobj.display(head)\n",
    "print()\n",
    "# # print(llobj.lenOfLL(head))\n",
    "# print()\n",
    "# head = llobj.addAtithPos(head, 5, 2)\n",
    "# llobj.display(head)\n",
    "# print()\n",
    "\n",
    "\n",
    "# head = llobj.addAtithPos(head, 6, 0)\n",
    "# llobj.display(head)\n",
    "# print()\n",
    "\n",
    "\n",
    "# head = llobj.removeAtitPos(head, 2)\n",
    "# llobj.display(head)\n",
    "# print()\n",
    "\n",
    "# print(llobj.lenRev(head))\n",
    "\n",
    "head = llobj.insertAtIthPosRec(head, 6, 2)\n",
    "llobj.display(head)\n",
    "print()\n",
    "\n",
    "\n",
    "head = llobj.removeIthPosRec(head, 1)\n",
    "llobj.display(head)\n",
    "print()"
   ]
  },
  {
   "cell_type": "code",
   "execution_count": null,
   "id": "e030f5cb",
   "metadata": {},
   "outputs": [],
   "source": []
  },
  {
   "cell_type": "code",
   "execution_count": 2,
   "id": "9fba8f50",
   "metadata": {},
   "outputs": [],
   "source": [
    "def takeInput(li):\n",
    "        \n",
    "        head = None\n",
    "        si = 0 \n",
    "        temp = head\n",
    "        while si < len(li):\n",
    "            \n",
    "            newNode = Node(li[si])\n",
    "            \n",
    "            if head == None:\n",
    "                head = newNode\n",
    "                temp = head\n",
    "            else:\n",
    "                temp.next = newNode\n",
    "                temp = temp.next\n",
    "                \n",
    "            si = si + 1\n",
    "        return head"
   ]
  },
  {
   "cell_type": "code",
   "execution_count": 4,
   "id": "8047f72b",
   "metadata": {},
   "outputs": [],
   "source": [
    "li = [10, 20, 30, 40]\n",
    "head = takeInput(li)\n"
   ]
  },
  {
   "cell_type": "code",
   "execution_count": 3,
   "id": "5534a142",
   "metadata": {},
   "outputs": [],
   "source": [
    "def display(head):\n",
    "        \n",
    "        while head != None:\n",
    "            print(head.data, end=\"->\")\n",
    "            head = head.next"
   ]
  },
  {
   "cell_type": "code",
   "execution_count": 6,
   "id": "971ccb6e",
   "metadata": {},
   "outputs": [
    {
     "name": "stdout",
     "output_type": "stream",
     "text": [
      "10->20->30->40->"
     ]
    }
   ],
   "source": [
    "display(head)\n"
   ]
  },
  {
   "cell_type": "code",
   "execution_count": 11,
   "id": "a3d0eea1",
   "metadata": {},
   "outputs": [],
   "source": [
    "import queue"
   ]
  },
  {
   "cell_type": "code",
   "execution_count": 20,
   "id": "d2f87a9c",
   "metadata": {},
   "outputs": [],
   "source": [
    "def isBalance(s):\n",
    "    st = queue.LifoQueue()\n",
    "    \n",
    "    for i in range(len(s)):\n",
    "        \n",
    "        if s[i] == '(' or s[i] == '[' or s[i] == '{':\n",
    "            st.put(s[i])\n",
    "        else:\n",
    "            if st.empty():\n",
    "                return False\n",
    "            \n",
    "            if s[i] == ')':\n",
    "                if st.get() != '(':\n",
    "                    return False\n",
    "            if s[i] == ']':\n",
    "                if st.get() != '[':\n",
    "                    return False\n",
    "                \n",
    "            if s[i] == '}':\n",
    "                if st.get() != '{':\n",
    "                    return False\n",
    "    \n",
    "    if st.empty():\n",
    "        return True\n",
    "    \n",
    "    return False\n",
    "                \n",
    "            \n",
    "        \n",
    "\n"
   ]
  },
  {
   "cell_type": "code",
   "execution_count": 21,
   "id": "9a6f4aa0",
   "metadata": {},
   "outputs": [
    {
     "name": "stdout",
     "output_type": "stream",
     "text": [
      "False\n"
     ]
    }
   ],
   "source": [
    "s = \"(((\"\n",
    "print(isBalance(s))\n"
   ]
  },
  {
   "cell_type": "code",
   "execution_count": null,
   "id": "dd65058b",
   "metadata": {},
   "outputs": [],
   "source": []
  },
  {
   "cell_type": "code",
   "execution_count": 10,
   "id": "10178ee3",
   "metadata": {},
   "outputs": [],
   "source": [
    "def SearchInLL(head, ele):\n",
    "    \n",
    "    if head == None:\n",
    "        return False\n",
    "    \n",
    "    while head != None:\n",
    "        if head.data == ele:\n",
    "            return True\n",
    "        head = head.next\n",
    "        \n",
    "    return False\n",
    "\n",
    "def serachInLLRec(head, ele):\n",
    "    \n",
    "    # Base case\n",
    "    if head == None:\n",
    "        return False\n",
    "    \n",
    "    # Rec Ans\n",
    "    smallAns = serachInLLRec(head.next, ele)\n",
    "    \n",
    "    if smallAns == True:\n",
    "        return True\n",
    "    elif head.data == ele:\n",
    "        return True\n",
    "    else:\n",
    "        return False\n",
    "        \n"
   ]
  },
  {
   "cell_type": "code",
   "execution_count": 12,
   "id": "da1287e3",
   "metadata": {},
   "outputs": [
    {
     "name": "stdout",
     "output_type": "stream",
     "text": [
      "10->20->30->40->\n",
      "True\n",
      "True\n"
     ]
    }
   ],
   "source": [
    "display(head)\n",
    "print()\n",
    "print(SearchInLL(head, 30))\n",
    "print(serachInLLRec(head, 30))"
   ]
  },
  {
   "cell_type": "code",
   "execution_count": 15,
   "id": "e881faa0",
   "metadata": {},
   "outputs": [],
   "source": [
    "def reverse1(head):\n",
    "    # Base case\n",
    "    if head == None or head.next == None:\n",
    "        return head\n",
    "    \n",
    "    # Rec Ans\n",
    "    \n",
    "    smallHead = reverse1(head.next)\n",
    "    \n",
    "    temp = smallHead\n",
    "    \n",
    "    while temp.next != None:\n",
    "        temp = temp.next\n",
    "        \n",
    "    temp.next = head\n",
    "    head.next = None\n",
    "    \n",
    "    return smallHead\n",
    "\n",
    "def reverse2(head):\n",
    "    \n",
    "    # Base case\n",
    "    if head == None or head.next == None:\n",
    "        return head\n",
    "    \n",
    "    # Rec Ans\n",
    "    \n",
    "    smallHead = reverse1(head.next)\n",
    "        \n",
    "    head.next.next = head\n",
    "    head.next = None\n",
    "    \n",
    "    return smallHead\n",
    "\n",
    "\n",
    "def reverse3(head):\n",
    "    \n",
    "    if head == None or head.next == None:\n",
    "        return head\n",
    "    \n",
    "    curr = head\n",
    "    prev = None\n",
    "    \n",
    "    while curr != None:\n",
    "        nextNode = curr.next\n",
    "        curr.next = prev\n",
    "        prev = curr\n",
    "        curr = nextNode\n",
    "        \n",
    "    return prev\n",
    "    \n",
    "    \n",
    "    "
   ]
  },
  {
   "cell_type": "code",
   "execution_count": 24,
   "id": "b4c25c89",
   "metadata": {},
   "outputs": [
    {
     "name": "stdout",
     "output_type": "stream",
     "text": [
      "Original LL 40->30->20->10->\n",
      "Reverse1 LL 10->20->30->40->\n",
      "Reverse2 LL 40->30->20->10->\n",
      "Reverse3 LL 10->20->30->40->\n"
     ]
    }
   ],
   "source": [
    "print(\"Original LL\", end=\" \")\n",
    "display(head)\n",
    "print()\n",
    "\n",
    "head = reverse1(head)\n",
    "print(\"Reverse1 LL\", end=\" \")\n",
    "display(head)\n",
    "print()\n",
    "\n",
    "head = reverse2(head)\n",
    "\n",
    "print(\"Reverse2 LL\", end=\" \")\n",
    "display(head)\n",
    "print()\n",
    "\n",
    "head = reverse3(head)\n",
    "\n",
    "print(\"Reverse3 LL\", end=\" \")\n",
    "display(head)\n",
    "print()"
   ]
  },
  {
   "cell_type": "code",
   "execution_count": null,
   "id": "ba5fcdb3",
   "metadata": {},
   "outputs": [],
   "source": []
  },
  {
   "cell_type": "code",
   "execution_count": 5,
   "id": "05385de7",
   "metadata": {},
   "outputs": [
    {
     "name": "stdout",
     "output_type": "stream",
     "text": [
      "1->2->2->2->3->3->3->4->\n"
     ]
    }
   ],
   "source": [
    "li = [1,2,2,2,3,3,3,4]\n",
    "head = takeInput(li)\n",
    "display(head)\n",
    "print()"
   ]
  },
  {
   "cell_type": "code",
   "execution_count": 13,
   "id": "e43f4fee",
   "metadata": {},
   "outputs": [],
   "source": [
    "def removeDup(head):\n",
    "    temp = head\n",
    "    \n",
    "    if temp == None:\n",
    "        return head\n",
    "    \n",
    "    while temp.next != None:\n",
    "        if temp.data == temp.next.data:\n",
    "            temp.next = temp.next.next\n",
    "        else:\n",
    "            temp = temp.next\n",
    "    return head\n",
    "    "
   ]
  },
  {
   "cell_type": "code",
   "execution_count": 14,
   "id": "91a46bfb",
   "metadata": {},
   "outputs": [
    {
     "name": "stdout",
     "output_type": "stream",
     "text": [
      "Original List\n",
      "1->1->2->2->2->3->3->3->4->\n",
      "UpdatedList List\n",
      "1->2->3->4->\n"
     ]
    }
   ],
   "source": [
    "li = [1,1,2,2,2,3,3,3,4]\n",
    "head = takeInput(li)\n",
    "print(\"Original List\")\n",
    "display(head)\n",
    "print()\n",
    "\n",
    "print(\"UpdatedList List\")\n",
    "\n",
    "head = removeDup(head)\n",
    "display(head)\n",
    "print()"
   ]
  },
  {
   "cell_type": "code",
   "execution_count": 16,
   "id": "24789e57",
   "metadata": {},
   "outputs": [],
   "source": [
    "def copyList(head):\n",
    "    newHead = None\n",
    "    temp = None\n",
    "    \n",
    "    while head != None:\n",
    "        \n",
    "        if newHead == None:\n",
    "            newHead = Node(head.data)\n",
    "            temp = newHead\n",
    "        else:\n",
    "            temp.next = Node(head.data)\n",
    "            temp = temp.next\n",
    "        head = head.next\n",
    "    return newHead\n",
    "        "
   ]
  },
  {
   "cell_type": "code",
   "execution_count": null,
   "id": "ef2ee699",
   "metadata": {},
   "outputs": [],
   "source": []
  },
  {
   "cell_type": "code",
   "execution_count": 20,
   "id": "e671cfbd",
   "metadata": {},
   "outputs": [],
   "source": [
    "def isPalindrome(head1, head2):\n",
    "    while head1 != None:\n",
    "        if head1.data != head2.data:\n",
    "            return False\n",
    "        head1 = head1.next\n",
    "        head2 = head2.next\n",
    "        \n",
    "    return True"
   ]
  },
  {
   "cell_type": "code",
   "execution_count": 22,
   "id": "75ebfe3c",
   "metadata": {},
   "outputs": [
    {
     "name": "stdout",
     "output_type": "stream",
     "text": [
      "Original List\n",
      "1->2->3->3->1->\n",
      "False\n",
      "1->3->3->2->1->\n"
     ]
    }
   ],
   "source": [
    "li = [1,2,3,3,1]\n",
    "head1 = takeInput(li)\n",
    "print(\"Original List\")\n",
    "display(head1)\n",
    "print()\n",
    "\n",
    "head2 = copyList(head1)\n",
    "head2 = reverse1(head2) \n",
    "\n",
    "print(isPalindrome(head1, head2))\n",
    "\n",
    "display(head2)\n",
    "print()"
   ]
  },
  {
   "cell_type": "code",
   "execution_count": null,
   "id": "3451b557",
   "metadata": {},
   "outputs": [],
   "source": []
  },
  {
   "cell_type": "code",
   "execution_count": 42,
   "id": "4f583c30",
   "metadata": {},
   "outputs": [],
   "source": [
    "def findInterPart(n):\n",
    "    \n",
    "    cnt = 1\n",
    "    while cnt * cnt <= n:\n",
    "        cnt += 1\n",
    "        \n",
    "    return cnt - 1\n",
    "\n",
    "def findInterPartUsingBS(n):\n",
    "    si = 1\n",
    "    ei = n\n",
    "    ans = 1\n",
    "    while si <= ei:\n",
    "        \n",
    "        mid = (si + ei)//2\n",
    "        \n",
    "        if mid*mid == n:\n",
    "            ans = mid\n",
    "            break\n",
    "        elif mid*mid > n:\n",
    "            ei = mid-1\n",
    "        else:\n",
    "            ans = mid\n",
    "            si = mid+1\n",
    "            \n",
    "    inc = 0.1\n",
    "    \n",
    "    for i in range(3):\n",
    "        while ans*ans <= n:\n",
    "            ans += inc\n",
    "            \n",
    "        ans = ans - inc\n",
    "        inc = inc/10\n",
    "        \n",
    "    return ans\n",
    "        "
   ]
  },
  {
   "cell_type": "code",
   "execution_count": 28,
   "id": "a296521b",
   "metadata": {},
   "outputs": [
    {
     "name": "stdout",
     "output_type": "stream",
     "text": [
      "3\n"
     ]
    }
   ],
   "source": [
    "print(findInterPart(10))"
   ]
  },
  {
   "cell_type": "code",
   "execution_count": 46,
   "id": "34b4b213",
   "metadata": {},
   "outputs": [
    {
     "name": "stdout",
     "output_type": "stream",
     "text": [
      "3.0\n"
     ]
    }
   ],
   "source": [
    "print(findInterPartUsingBS(9))"
   ]
  },
  {
   "cell_type": "code",
   "execution_count": null,
   "id": "bbd46d25",
   "metadata": {},
   "outputs": [],
   "source": []
  },
  {
   "cell_type": "code",
   "execution_count": null,
   "id": "b1b77b98",
   "metadata": {},
   "outputs": [],
   "source": []
  },
  {
   "cell_type": "code",
   "execution_count": null,
   "id": "618d6f83",
   "metadata": {},
   "outputs": [],
   "source": []
  },
  {
   "cell_type": "code",
   "execution_count": null,
   "id": "00d4e493",
   "metadata": {},
   "outputs": [],
   "source": []
  },
  {
   "cell_type": "code",
   "execution_count": null,
   "id": "6b225b3c",
   "metadata": {},
   "outputs": [],
   "source": []
  }
 ],
 "metadata": {
  "kernelspec": {
   "display_name": "Python 3 (ipykernel)",
   "language": "python",
   "name": "python3"
  },
  "language_info": {
   "codemirror_mode": {
    "name": "ipython",
    "version": 3
   },
   "file_extension": ".py",
   "mimetype": "text/x-python",
   "name": "python",
   "nbconvert_exporter": "python",
   "pygments_lexer": "ipython3",
   "version": "3.9.7"
  }
 },
 "nbformat": 4,
 "nbformat_minor": 5
}
