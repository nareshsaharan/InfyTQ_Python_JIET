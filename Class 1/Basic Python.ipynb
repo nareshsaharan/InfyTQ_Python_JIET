{
 "cells": [
  {
   "cell_type": "markdown",
   "id": "989418bc",
   "metadata": {},
   "source": [
    "### Hello World"
   ]
  },
  {
   "cell_type": "code",
   "execution_count": 5,
   "id": "d479659d",
   "metadata": {},
   "outputs": [
    {
     "name": "stdout",
     "output_type": "stream",
     "text": [
      "Hello world\n",
      "How are you ??\n"
     ]
    }
   ],
   "source": [
    "print(\"Hello world\")\n",
    "print(\"How are you ??\")"
   ]
  },
  {
   "cell_type": "markdown",
   "id": "990d63b1",
   "metadata": {},
   "source": [
    "### variables"
   ]
  },
  {
   "cell_type": "code",
   "execution_count": 8,
   "id": "4f231e70",
   "metadata": {},
   "outputs": [
    {
     "name": "stdout",
     "output_type": "stream",
     "text": [
      "30\n"
     ]
    }
   ],
   "source": [
    "a = 10\n",
    "b = 20\n",
    "print(a+b)"
   ]
  },
  {
   "cell_type": "code",
   "execution_count": 9,
   "id": "21200adc",
   "metadata": {},
   "outputs": [
    {
     "name": "stdout",
     "output_type": "stream",
     "text": [
      "Hello\n"
     ]
    }
   ],
   "source": [
    "a = \"Hello\"\n",
    "print(a)"
   ]
  },
  {
   "cell_type": "code",
   "execution_count": 14,
   "id": "0512b02b",
   "metadata": {},
   "outputs": [
    {
     "ename": "SyntaxError",
     "evalue": "invalid syntax (3743349158.py, line 4)",
     "output_type": "error",
     "traceback": [
      "\u001b[0;36m  File \u001b[0;32m\"/var/folders/js/y6tppz5n6t72mb46qnkgxblc0000gq/T/ipykernel_74679/3743349158.py\"\u001b[0;36m, line \u001b[0;32m4\u001b[0m\n\u001b[0;31m    @av = 10\u001b[0m\n\u001b[0m        ^\u001b[0m\n\u001b[0;31mSyntaxError\u001b[0m\u001b[0;31m:\u001b[0m invalid syntax\n"
     ]
    }
   ],
   "source": [
    "A_12 = 10\n",
    "a12_ = 10\n",
    "_12A = 10\n",
    "av = 10\n"
   ]
  },
  {
   "cell_type": "code",
   "execution_count": 11,
   "id": "06fd45e8",
   "metadata": {},
   "outputs": [
    {
     "ename": "SyntaxError",
     "evalue": "invalid syntax (1237970106.py, line 1)",
     "output_type": "error",
     "traceback": [
      "\u001b[0;36m  File \u001b[0;32m\"/var/folders/js/y6tppz5n6t72mb46qnkgxblc0000gq/T/ipykernel_74679/1237970106.py\"\u001b[0;36m, line \u001b[0;32m1\u001b[0m\n\u001b[0;31m    12A_ = 10\u001b[0m\n\u001b[0m      ^\u001b[0m\n\u001b[0;31mSyntaxError\u001b[0m\u001b[0;31m:\u001b[0m invalid syntax\n"
     ]
    }
   ],
   "source": [
    "12A_ = 10"
   ]
  },
  {
   "cell_type": "code",
   "execution_count": 16,
   "id": "970f353d",
   "metadata": {},
   "outputs": [
    {
     "name": "stdout",
     "output_type": "stream",
     "text": [
      "140714939968080\n",
      "140714675657136\n",
      "140712792358704\n"
     ]
    }
   ],
   "source": [
    "a = 10\n",
    "print(id(a))\n",
    "a = 3.5\n",
    "print(id(a))\n",
    "a = \"hello\"\n",
    "print(id(a))"
   ]
  },
  {
   "cell_type": "code",
   "execution_count": 17,
   "id": "733a4d36",
   "metadata": {},
   "outputs": [
    {
     "name": "stdout",
     "output_type": "stream",
     "text": [
      "<class 'int'>\n",
      "<class 'float'>\n",
      "<class 'str'>\n"
     ]
    }
   ],
   "source": [
    "a = 10\n",
    "print(type(a))\n",
    "a = 3.5\n",
    "print(type(a))\n",
    "a = \"hello\"\n",
    "print(type(a))"
   ]
  },
  {
   "cell_type": "code",
   "execution_count": 19,
   "id": "26e50072",
   "metadata": {},
   "outputs": [
    {
     "name": "stdout",
     "output_type": "stream",
     "text": [
      "200\n"
     ]
    }
   ],
   "source": [
    "a = 10\n",
    "b = 20 \n",
    "multiple = a*b\n",
    "print(multiple)\n"
   ]
  },
  {
   "cell_type": "code",
   "execution_count": 26,
   "id": "5e3dc9d4",
   "metadata": {},
   "outputs": [
    {
     "name": "stdout",
     "output_type": "stream",
     "text": [
      "10\n"
     ]
    }
   ],
   "source": [
    "# single line comment\n",
    "# jfbsdf siusb dsfjidus dsckdsj dsfjksn\n",
    "# jksdf fjk sdkfds \n",
    "a = 10\n",
    "\n",
    "\n",
    "# multi line comment\n",
    "\n",
    "''' fbdsfbdsf s\n",
    "dsfdsfdsfds\n",
    "dfdsfdsfdsff\n",
    "fdsfffsf. fdsfsdfsd. dsfsdf  '''\n",
    "print(a)"
   ]
  },
  {
   "cell_type": "code",
   "execution_count": 29,
   "id": "be55e258",
   "metadata": {},
   "outputs": [
    {
     "name": "stdout",
     "output_type": "stream",
     "text": [
      "140714675656112\n",
      "140714675656080\n"
     ]
    }
   ],
   "source": [
    "a = 1000\n",
    "b = 1000\n",
    "print(id(a))\n",
    "print(id(b))"
   ]
  },
  {
   "cell_type": "code",
   "execution_count": null,
   "id": "1ede0aa7",
   "metadata": {},
   "outputs": [],
   "source": [
    "# uwgfefb "
   ]
  },
  {
   "cell_type": "code",
   "execution_count": 32,
   "id": "51820952",
   "metadata": {},
   "outputs": [
    {
     "name": "stdout",
     "output_type": "stream",
     "text": [
      "10000000000000000000\n"
     ]
    }
   ],
   "source": [
    "a = 10000000000000000000\n",
    "print(a)"
   ]
  },
  {
   "cell_type": "markdown",
   "id": "207165cc",
   "metadata": {},
   "source": [
    "## Arithmetic Operators:"
   ]
  },
  {
   "cell_type": "code",
   "execution_count": null,
   "id": "0a105448",
   "metadata": {},
   "outputs": [],
   "source": []
  },
  {
   "cell_type": "code",
   "execution_count": null,
   "id": "50ace4e4",
   "metadata": {},
   "outputs": [],
   "source": []
  },
  {
   "cell_type": "code",
   "execution_count": 40,
   "id": "14ea7871",
   "metadata": {},
   "outputs": [
    {
     "name": "stdout",
     "output_type": "stream",
     "text": [
      "8\n",
      "2\n",
      "15\n",
      "1.6666666666666667\n"
     ]
    }
   ],
   "source": [
    "a = 5\n",
    "b = 3\n",
    "print(a + b)\n",
    "print(a - b)\n",
    "print(a * b)\n",
    "print(a / b)"
   ]
  },
  {
   "cell_type": "code",
   "execution_count": 41,
   "id": "47b53436",
   "metadata": {},
   "outputs": [
    {
     "name": "stdout",
     "output_type": "stream",
     "text": [
      "2\n",
      "1\n",
      "125\n"
     ]
    }
   ],
   "source": [
    "print(a%b)\n",
    "print(a//b)\n",
    "print(a**b)"
   ]
  },
  {
   "cell_type": "code",
   "execution_count": 43,
   "id": "f022c2f5",
   "metadata": {},
   "outputs": [
    {
     "name": "stdout",
     "output_type": "stream",
     "text": [
      "50.0\n"
     ]
    }
   ],
   "source": [
    "P = 100\n",
    "R = 10\n",
    "T = 5\n",
    "SI = (P*R*T)/100\n",
    "print(SI)"
   ]
  },
  {
   "cell_type": "code",
   "execution_count": 49,
   "id": "9be701bd",
   "metadata": {},
   "outputs": [
    {
     "name": "stdout",
     "output_type": "stream",
     "text": [
      "Enter First Number10\n",
      "<class 'str'>\n"
     ]
    }
   ],
   "source": [
    "a = input(\"Enter First Number\")\n",
    "print(type(a))"
   ]
  },
  {
   "cell_type": "code",
   "execution_count": 1,
   "id": "5406e348",
   "metadata": {},
   "outputs": [
    {
     "name": "stdout",
     "output_type": "stream",
     "text": [
      "10\n",
      "20\n",
      "30.0\n"
     ]
    }
   ],
   "source": [
    "a = float(input())\n",
    "b = int(input())\n",
    "print(a + b)"
   ]
  },
  {
   "cell_type": "code",
   "execution_count": 2,
   "id": "aa68e5bc",
   "metadata": {},
   "outputs": [
    {
     "name": "stdout",
     "output_type": "stream",
     "text": [
      "10\n",
      "20\n",
      "30\n",
      "20.0\n"
     ]
    }
   ],
   "source": [
    "subjectA = int(input())\n",
    "subjectB = int(input())\n",
    "subjectC = int(input())\n",
    "avg = (subjectA + subjectB + subjectC)/3\n",
    "print(avg)"
   ]
  },
  {
   "cell_type": "code",
   "execution_count": null,
   "id": "fca8d68c",
   "metadata": {},
   "outputs": [],
   "source": [
    "subjectA = int(input())\n",
    "subjectB = int(input())\n",
    "subjectC = int(input())\n",
    "avg = (subjectA + subjectB + subjectC)/3\n",
    "print(avg)"
   ]
  },
  {
   "cell_type": "code",
   "execution_count": 5,
   "id": "ecd2a92a",
   "metadata": {},
   "outputs": [
    {
     "name": "stdout",
     "output_type": "stream",
     "text": [
      "True\n"
     ]
    }
   ],
   "source": [
    "a = True\n",
    "b = False\n",
    "print(a)"
   ]
  },
  {
   "cell_type": "code",
   "execution_count": 4,
   "id": "14e41f9d",
   "metadata": {},
   "outputs": [
    {
     "name": "stdout",
     "output_type": "stream",
     "text": [
      "False\n",
      "True\n",
      "False\n",
      "True\n"
     ]
    }
   ],
   "source": [
    "a = 10\n",
    "b = 20\n",
    "print(a > b)  # false\n",
    "print(a < b) # true\n",
    "print(a == b) # false\n",
    "print(a != b) # true"
   ]
  },
  {
   "cell_type": "code",
   "execution_count": 8,
   "id": "81f80606",
   "metadata": {},
   "outputs": [
    {
     "name": "stdout",
     "output_type": "stream",
     "text": [
      "True\n"
     ]
    }
   ],
   "source": [
    "a = True\n",
    "b = not(False)\n",
    "print(a and b)\n"
   ]
  },
  {
   "cell_type": "code",
   "execution_count": 12,
   "id": "9b1140d1",
   "metadata": {},
   "outputs": [
    {
     "name": "stdout",
     "output_type": "stream",
     "text": [
      " I am inside the else block\n"
     ]
    }
   ],
   "source": [
    "if False:    \n",
    "    print(\" I am inside the if block\")\n",
    "    print(\"hello\")\n",
    "else:\n",
    "    print(\" I am inside the else block\")\n",
    "    "
   ]
  },
  {
   "cell_type": "code",
   "execution_count": 14,
   "id": "1412c708",
   "metadata": {},
   "outputs": [
    {
     "name": "stdout",
     "output_type": "stream",
     "text": [
      "10\n",
      "Yes this numner is even\n"
     ]
    }
   ],
   "source": [
    "num = int(input())\n",
    "if num % 2 == 0:\n",
    "    print(\"Yes this numner is even\")\n",
    "else:\n",
    "    print(\"number is odd\")"
   ]
  },
  {
   "cell_type": "code",
   "execution_count": 17,
   "id": "b3f43a4e",
   "metadata": {},
   "outputs": [
    {
     "name": "stdout",
     "output_type": "stream",
     "text": [
      "30\n",
      "20\n",
      "10\n",
      "a is largest\n"
     ]
    }
   ],
   "source": [
    "a = int(input())\n",
    "b = int(input())\n",
    "c = int(input())\n",
    "\n",
    "if a > b and a > c:\n",
    "    print(\"a is largest\")\n",
    "elif b > a and b > c:\n",
    "    print(\"b is largest\")\n",
    "else:\n",
    "    print(\"c is largest\")"
   ]
  },
  {
   "cell_type": "code",
   "execution_count": 20,
   "id": "08eaceb2",
   "metadata": {},
   "outputs": [
    {
     "name": "stdout",
     "output_type": "stream",
     "text": [
      "Enter your age : 16\n",
      "Not eligible\n"
     ]
    }
   ],
   "source": [
    "age = int(input(\"Enter your age : \"))\n",
    "if age >= 18:\n",
    "    print(\"Yes, You are eligible\")\n",
    "else:\n",
    "    print(\"Not eligible\")"
   ]
  },
  {
   "cell_type": "code",
   "execution_count": 2,
   "id": "0d69c4db",
   "metadata": {},
   "outputs": [
    {
     "name": "stdout",
     "output_type": "stream",
     "text": [
      "1\n",
      "2\n",
      "3\n",
      "4\n",
      "5\n",
      "6\n",
      "7\n",
      "8\n",
      "9\n",
      "10\n"
     ]
    }
   ],
   "source": [
    "i = 1\n",
    "while i <= 10:\n",
    "    print(i)\n",
    "    i = i +1\n"
   ]
  },
  {
   "cell_type": "code",
   "execution_count": 1,
   "id": "56c62aad",
   "metadata": {},
   "outputs": [
    {
     "name": "stdout",
     "output_type": "stream",
     "text": [
      "10\n",
      "Sum of even numbers till  10  is :  30\n"
     ]
    }
   ],
   "source": [
    "num = int(input())\n",
    "count = 0\n",
    "i = 1\n",
    "while i <= num:\n",
    "    if i % 2 == 0:\n",
    "        count += i\n",
    "    i = i + 1\n",
    "print(\"Sum of even numbers till \",num, \" is : \",count)"
   ]
  },
  {
   "cell_type": "markdown",
   "id": "b3cc1d0c",
   "metadata": {},
   "source": [
    "# Prime number"
   ]
  },
  {
   "cell_type": "code",
   "execution_count": 14,
   "id": "a1564da5",
   "metadata": {},
   "outputs": [
    {
     "name": "stdout",
     "output_type": "stream",
     "text": [
      "7\n",
      "Prime\n"
     ]
    }
   ],
   "source": [
    "num = int(input())\n",
    "i = 2\n",
    "\n",
    "isPrime = True\n",
    "\n",
    "while i < num:\n",
    "    if num % i == 0:\n",
    "        isPrime = False\n",
    "    i = i + 1\n",
    "    \n",
    "if not(isPrime):\n",
    "    print(\"Not Prime\")\n",
    "else:\n",
    "    print(\"Prime\")"
   ]
  },
  {
   "cell_type": "code",
   "execution_count": null,
   "id": "39329e6a",
   "metadata": {},
   "outputs": [],
   "source": []
  },
  {
   "cell_type": "code",
   "execution_count": 3,
   "id": "f70f91e7",
   "metadata": {},
   "outputs": [
    {
     "name": "stdout",
     "output_type": "stream",
     "text": [
      "Apple*Mango*Banana\n"
     ]
    }
   ],
   "source": [
    "print('Apple', 'Mango', 'Banana', sep = '*')\n"
   ]
  },
  {
   "cell_type": "code",
   "execution_count": 8,
   "id": "9b76867e",
   "metadata": {},
   "outputs": [
    {
     "name": "stdout",
     "output_type": "stream",
     "text": [
      "hello5\n"
     ]
    }
   ],
   "source": [
    "print(\"hello\" + str(5))\n"
   ]
  },
  {
   "cell_type": "code",
   "execution_count": 12,
   "id": "bb1be3cb",
   "metadata": {},
   "outputs": [
    {
     "name": "stdout",
     "output_type": "stream",
     "text": [
      "I want to go to Gurugram on 25 Sep\n",
      "I want to go to Gurugram on 25 Sep\n"
     ]
    }
   ],
   "source": [
    "location = 'Gurugram'\n",
    "date = '25 Sep'\n",
    "print(\"I want to go to {} on {}\".format(location, date))\n",
    "print(\"I want to go to {1} on {0}\".format(date,location))\n"
   ]
  },
  {
   "cell_type": "code",
   "execution_count": 13,
   "id": "da7ce7ba",
   "metadata": {},
   "outputs": [
    {
     "name": "stdout",
     "output_type": "stream",
     "text": [
      "I want to eat Alu tikki from MCd\n"
     ]
    }
   ],
   "source": [
    "food = \"Alu tikki\"\n",
    "restaurent = \"MCd\"\n",
    "print(f\"I want to eat {food} from {restaurent}\")\n"
   ]
  },
  {
   "cell_type": "code",
   "execution_count": null,
   "id": "6c439dab",
   "metadata": {},
   "outputs": [],
   "source": []
  }
 ],
 "metadata": {
  "kernelspec": {
   "display_name": "Python 3 (ipykernel)",
   "language": "python",
   "name": "python3"
  },
  "language_info": {
   "codemirror_mode": {
    "name": "ipython",
    "version": 3
   },
   "file_extension": ".py",
   "mimetype": "text/x-python",
   "name": "python",
   "nbconvert_exporter": "python",
   "pygments_lexer": "ipython3",
   "version": "3.9.7"
  }
 },
 "nbformat": 4,
 "nbformat_minor": 5
}
