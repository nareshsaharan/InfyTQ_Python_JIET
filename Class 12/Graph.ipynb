{
 "cells": [
  {
   "cell_type": "code",
   "execution_count": 18,
   "id": "2f9ae3ec",
   "metadata": {},
   "outputs": [
    {
     "name": "stdout",
     "output_type": "stream",
     "text": [
      "[[0, 1, 0, 0], [1, 0, 1, 0], [0, 1, 0, 1], [0, 0, 1, 0]]\n",
      "[0, 1, 0, 0]\n",
      "[1, 0, 1, 0]\n",
      "[0, 1, 0, 1]\n",
      "[0, 0, 1, 0]\n"
     ]
    }
   ],
   "source": [
    "import queue\n",
    "\n",
    "class Graph:\n",
    "    def __init__(self, nVertices):\n",
    "        self.nVertices = nVertices\n",
    "        self.adjMat = [[0 for i in range(nVertices)] for i in range(nVertices)]\n",
    "#         self.adjMat = [[0]*nVertices]*nVertices\n",
    "\n",
    "    def addEdge(self, v1, v2):\n",
    "        self.adjMat[v1][v2] = 1\n",
    "        self.adjMat[v2][v1] = 1\n",
    "        \n",
    "    def removeEdge(self, v1, v2):\n",
    "        self.adjMat[v1][v2] = 0\n",
    "        self.adjMat[v2][v1] = 0\n",
    "        \n",
    "                \n",
    "    def bfs(self):\n",
    "        \n",
    "        q = queue.Queue()\n",
    "        visited = [False for i in range(self.nVertices)]\n",
    "        \n",
    "        q.put(0)\n",
    "        visited[0] = True\n",
    "        \n",
    "        while not q.empty():\n",
    "            curr = q.get()\n",
    "            print(curr)\n",
    "            \n",
    "            for i in range(self.nVertices):\n",
    "                if self.adjMat[curr][i] == 1 and visited[i] == False:\n",
    "                    q.put(i)\n",
    "                    visited[i] = True\n",
    "                    \n",
    "                    \n",
    "    def dfsHelper(self, sv, visited):\n",
    "        \n",
    "        print(sv)\n",
    "        visited[sv] = True\n",
    "        \n",
    "        for i in range(self.nVertices):\n",
    "            if self.adjMat[sv][i] == 1 and visited[i] == False:\n",
    "                self.dfsHelper(i, visited)\n",
    "        \n",
    "        \n",
    "    def dfs(self):\n",
    "        visited = [False for i in range(self.nVertices)]\n",
    "#         visited = [False] * self.nVertices\n",
    "        cnt = 0\n",
    "        for i in range(self.nVertices):\n",
    "            if visited[i] == False:\n",
    "                self.dfsHelper(i, visited)\n",
    "                cnt += 1\n",
    "        print(\"Connected Components:\", cnt)\n",
    "        \n",
    "        \n",
    "    def __str__(self):\n",
    "        return str(self.adjMat)\n",
    "        \n",
    "    \n",
    "g = Graph(4)\n",
    "g.addEdge(0, 1)\n",
    "g.addEdge(1, 2)\n",
    "g.addEdge(2, 3)\n",
    "\n",
    "print(g)\n",
    "\n",
    "\n",
    "for i in range(4):\n",
    "    print(g.adjMat[i])\n",
    "    \n"
   ]
  },
  {
   "cell_type": "code",
   "execution_count": null,
   "id": "371c1d7d",
   "metadata": {},
   "outputs": [],
   "source": []
  },
  {
   "cell_type": "code",
   "execution_count": 2,
   "id": "87bae5e5",
   "metadata": {},
   "outputs": [
    {
     "data": {
      "text/plain": [
       "[[0, 0, 0, 0], [0, 0, 0, 0], [0, 0, 0, 0], [0, 0, 0, 0]]"
      ]
     },
     "execution_count": 2,
     "metadata": {},
     "output_type": "execute_result"
    }
   ],
   "source": [
    "[[0]*4]*4"
   ]
  },
  {
   "cell_type": "code",
   "execution_count": 4,
   "id": "b57b678b",
   "metadata": {},
   "outputs": [
    {
     "name": "stdout",
     "output_type": "stream",
     "text": [
      "0\n",
      "1\n",
      "2\n",
      "3\n"
     ]
    }
   ],
   "source": [
    "g.dfs()"
   ]
  },
  {
   "cell_type": "code",
   "execution_count": 13,
   "id": "2d971665",
   "metadata": {},
   "outputs": [
    {
     "name": "stdout",
     "output_type": "stream",
     "text": [
      "0\n",
      "1\n",
      "2\n",
      "3\n"
     ]
    }
   ],
   "source": [
    "g.bfs()"
   ]
  },
  {
   "cell_type": "code",
   "execution_count": 14,
   "id": "1c374e5b",
   "metadata": {},
   "outputs": [],
   "source": [
    "g1 = Graph(5)\n",
    "g1.addEdge(0, 1)\n",
    "g1.addEdge(0, 4)\n",
    "g1.addEdge(1, 2)\n",
    "g1.addEdge(2, 3)"
   ]
  },
  {
   "cell_type": "code",
   "execution_count": 15,
   "id": "703b614e",
   "metadata": {},
   "outputs": [
    {
     "name": "stdout",
     "output_type": "stream",
     "text": [
      "0\n",
      "1\n",
      "2\n",
      "3\n",
      "4\n"
     ]
    }
   ],
   "source": [
    "g1.dfs()"
   ]
  },
  {
   "cell_type": "code",
   "execution_count": 16,
   "id": "00f98939",
   "metadata": {},
   "outputs": [
    {
     "name": "stdout",
     "output_type": "stream",
     "text": [
      "0\n",
      "1\n",
      "4\n",
      "2\n",
      "3\n"
     ]
    }
   ],
   "source": [
    "g1.bfs()"
   ]
  },
  {
   "cell_type": "code",
   "execution_count": 20,
   "id": "419b6128",
   "metadata": {},
   "outputs": [
    {
     "name": "stdout",
     "output_type": "stream",
     "text": [
      "0\n",
      "1\n",
      "2\n",
      "3\n",
      "4\n",
      "5\n",
      "Connected Components: 3\n"
     ]
    }
   ],
   "source": [
    "g2 = Graph(6)\n",
    "g2.addEdge(0,1)\n",
    "g2.addEdge(1,2)\n",
    "g2.addEdge(3,4)\n",
    "g2.dfs()"
   ]
  },
  {
   "cell_type": "code",
   "execution_count": null,
   "id": "eab7e007",
   "metadata": {},
   "outputs": [],
   "source": []
  },
  {
   "cell_type": "code",
   "execution_count": null,
   "id": "ce5c3be4",
   "metadata": {},
   "outputs": [],
   "source": []
  },
  {
   "cell_type": "code",
   "execution_count": null,
   "id": "3c523cb0",
   "metadata": {},
   "outputs": [],
   "source": []
  },
  {
   "cell_type": "code",
   "execution_count": null,
   "id": "8a8a4807",
   "metadata": {},
   "outputs": [],
   "source": []
  }
 ],
 "metadata": {
  "kernelspec": {
   "display_name": "Python 3 (ipykernel)",
   "language": "python",
   "name": "python3"
  },
  "language_info": {
   "codemirror_mode": {
    "name": "ipython",
    "version": 3
   },
   "file_extension": ".py",
   "mimetype": "text/x-python",
   "name": "python",
   "nbconvert_exporter": "python",
   "pygments_lexer": "ipython3",
   "version": "3.9.7"
  }
 },
 "nbformat": 4,
 "nbformat_minor": 5
}
