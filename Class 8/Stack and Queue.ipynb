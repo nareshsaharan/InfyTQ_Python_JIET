{
 "cells": [
  {
   "cell_type": "markdown",
   "id": "f505409f",
   "metadata": {},
   "source": [
    "# Stack"
   ]
  },
  {
   "cell_type": "code",
   "execution_count": 3,
   "id": "37d1e67e",
   "metadata": {},
   "outputs": [],
   "source": [
    "class Stack:\n",
    "    \n",
    "    def __init__(self):\n",
    "        self.__li = []\n",
    "        \n",
    "    def push(self, item):\n",
    "        self.__li.append(item)\n",
    "        \n",
    "    def pop(self):\n",
    "        if self.isEmpty():\n",
    "            print(\"Stack is empty\")\n",
    "            return\n",
    "        else:\n",
    "            return self.__li.pop()\n",
    "        \n",
    "    def top(self):\n",
    "        if self.isEmpty():\n",
    "            print(\"Stack is empty\")\n",
    "            return\n",
    "        else:\n",
    "            return self.__li[-1]\n",
    "        \n",
    "    def size(self):\n",
    "        return len(self.__li)\n",
    "        \n",
    "    def isEmpty(self):\n",
    "        return self.size() == 0\n",
    "        "
   ]
  },
  {
   "cell_type": "code",
   "execution_count": 14,
   "id": "2d05bc5a",
   "metadata": {},
   "outputs": [
    {
     "name": "stdout",
     "output_type": "stream",
     "text": [
      "3\n",
      "2\n",
      "1\n",
      "Stack is empty\n"
     ]
    }
   ],
   "source": [
    "s = Stack()\n",
    "s.push(1)\n",
    "s.push(2)\n",
    "s.push(3)\n",
    "\n",
    "while not s.isEmpty():\n",
    "    print(s.pop())\n",
    "    \n",
    "s.pop()\n",
    "\n",
    "# print(s.top())"
   ]
  },
  {
   "cell_type": "code",
   "execution_count": 21,
   "id": "75732594",
   "metadata": {},
   "outputs": [
    {
     "name": "stdout",
     "output_type": "stream",
     "text": [
      "3\n",
      "2\n",
      "1\n"
     ]
    }
   ],
   "source": [
    "st = []\n",
    "st.append(1)\n",
    "st.append(2)\n",
    "st.append(3)\n",
    "\n",
    "i = 0\n",
    "n = len(st)\n",
    "while i < n:\n",
    "    print(st.pop())\n",
    "    i = i + 1"
   ]
  },
  {
   "cell_type": "code",
   "execution_count": null,
   "id": "3e6a7c32",
   "metadata": {},
   "outputs": [],
   "source": []
  },
  {
   "cell_type": "markdown",
   "id": "129adf5b",
   "metadata": {},
   "source": [
    "# Queue"
   ]
  },
  {
   "cell_type": "code",
   "execution_count": 22,
   "id": "072fba8c",
   "metadata": {},
   "outputs": [],
   "source": [
    "class Queue:\n",
    "    \n",
    "    def __init__(self):\n",
    "        self.__li = []\n",
    "        self.__front = 0\n",
    "        self.__count = 0\n",
    "        \n",
    "    def enqueue(self, data):\n",
    "        self.__li.append(data)\n",
    "        self.__count += 1\n",
    "        \n",
    "    def dequeue(self):\n",
    "        if self.__count == 0:\n",
    "            print(\"Queue is empty\")\n",
    "            return\n",
    "        else:\n",
    "            ele = self.__li[self.__front]\n",
    "            self.__count -= 1\n",
    "            self.__front += 1\n",
    "            return ele\n",
    "        \n",
    "    def front(self):\n",
    "        if self.__count == 0:\n",
    "            print(\"Queue is empty\")\n",
    "            return\n",
    "        else:\n",
    "            return self.__li[self.__front]\n",
    "        \n",
    "    def size(self):\n",
    "        return self.__count\n",
    "    \n",
    "    def isEmpty(self):\n",
    "        return self.__count == 0\n",
    "    "
   ]
  },
  {
   "cell_type": "code",
   "execution_count": 23,
   "id": "98f3549f",
   "metadata": {},
   "outputs": [
    {
     "name": "stdout",
     "output_type": "stream",
     "text": [
      "1\n",
      "2\n",
      "3\n"
     ]
    }
   ],
   "source": [
    "q = Queue()\n",
    "q.enqueue(1)\n",
    "q.enqueue(2)\n",
    "q.enqueue(3)\n",
    "\n",
    "while not q.isEmpty():\n",
    "    print(q.dequeue())"
   ]
  },
  {
   "cell_type": "code",
   "execution_count": 25,
   "id": "3b1399c1",
   "metadata": {},
   "outputs": [
    {
     "name": "stdout",
     "output_type": "stream",
     "text": [
      "3\n",
      "1\n",
      "2\n",
      "3\n"
     ]
    }
   ],
   "source": [
    "import queue\n",
    "\n",
    "q = queue.Queue()\n",
    "\n",
    "q.put(1)\n",
    "q.put(2)\n",
    "q.put(3)\n",
    "\n",
    "print(q.qsize())\n",
    "\n",
    "while not q.empty():\n",
    "    print(q.get())\n"
   ]
  },
  {
   "cell_type": "code",
   "execution_count": 3,
   "id": "b319af4b",
   "metadata": {},
   "outputs": [
    {
     "name": "stdout",
     "output_type": "stream",
     "text": [
      "3\n",
      "2\n",
      "1\n"
     ]
    }
   ],
   "source": [
    "import queue\n",
    "\n",
    "s = queue.LifoQueue()\n",
    "\n",
    "s.put(1)\n",
    "s.put(2)\n",
    "s.put(3)\n",
    "\n",
    "while not s.empty():\n",
    "    print(s.get())\n"
   ]
  },
  {
   "cell_type": "code",
   "execution_count": 4,
   "id": "4649dff2",
   "metadata": {},
   "outputs": [],
   "source": [
    "def isBalance(s):\n",
    "    st = queue.LifoQueue()\n",
    " \n",
    "    for i in range(len(s)):\n",
    "        if s[i] == '(':\n",
    "            st.put('(')\n",
    "        else:\n",
    "            if st.empty():\n",
    "                return False\n",
    "            else:\n",
    "                st.get()\n",
    "                \n",
    "    if st.empty():\n",
    "        return True\n",
    "    else:\n",
    "        return False\n",
    "                \n",
    "    "
   ]
  },
  {
   "cell_type": "code",
   "execution_count": 6,
   "id": "f4045cd8",
   "metadata": {},
   "outputs": [
    {
     "name": "stdout",
     "output_type": "stream",
     "text": [
      "True\n"
     ]
    }
   ],
   "source": [
    "s = \"((()))\"\n",
    "print(isBalance(s))"
   ]
  },
  {
   "cell_type": "code",
   "execution_count": 4,
   "id": "35dbc31c",
   "metadata": {},
   "outputs": [],
   "source": [
    "def isBalance(s):\n",
    "    st = Stack()\n",
    " \n",
    "    for i in range(len(s)):\n",
    "        if s[i] == '(':\n",
    "            st.push('(')\n",
    "        else:\n",
    "            if st.isEmpty():\n",
    "                return False\n",
    "            else:\n",
    "                st.pop()\n",
    "                \n",
    "    if st.isEmpty():\n",
    "        return True\n",
    "    else:\n",
    "        return False\n",
    "                \n",
    "    "
   ]
  },
  {
   "cell_type": "code",
   "execution_count": null,
   "id": "96d1f039",
   "metadata": {},
   "outputs": [],
   "source": []
  },
  {
   "cell_type": "code",
   "execution_count": null,
   "id": "9972d20b",
   "metadata": {},
   "outputs": [],
   "source": []
  },
  {
   "cell_type": "code",
   "execution_count": null,
   "id": "45308a73",
   "metadata": {},
   "outputs": [],
   "source": []
  },
  {
   "cell_type": "code",
   "execution_count": null,
   "id": "c0fc53bb",
   "metadata": {},
   "outputs": [],
   "source": []
  },
  {
   "cell_type": "code",
   "execution_count": null,
   "id": "0c996563",
   "metadata": {},
   "outputs": [],
   "source": []
  },
  {
   "cell_type": "code",
   "execution_count": null,
   "id": "d50dfd8c",
   "metadata": {},
   "outputs": [],
   "source": []
  }
 ],
 "metadata": {
  "kernelspec": {
   "display_name": "Python 3 (ipykernel)",
   "language": "python",
   "name": "python3"
  },
  "language_info": {
   "codemirror_mode": {
    "name": "ipython",
    "version": 3
   },
   "file_extension": ".py",
   "mimetype": "text/x-python",
   "name": "python",
   "nbconvert_exporter": "python",
   "pygments_lexer": "ipython3",
   "version": "3.9.7"
  }
 },
 "nbformat": 4,
 "nbformat_minor": 5
}
