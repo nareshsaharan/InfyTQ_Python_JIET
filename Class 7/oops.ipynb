{
 "cells": [
  {
   "cell_type": "markdown",
   "id": "2212dc65",
   "metadata": {},
   "source": [
    "## OOPS"
   ]
  },
  {
   "cell_type": "code",
   "execution_count": null,
   "id": "44d82010",
   "metadata": {},
   "outputs": [],
   "source": []
  },
  {
   "cell_type": "code",
   "execution_count": 13,
   "id": "4ea2dff9",
   "metadata": {},
   "outputs": [],
   "source": [
    "class Dog:\n",
    "    \n",
    "    def __init__(self, name, age, color):\n",
    "        self.name = name\n",
    "        self.age = age\n",
    "        self.color = color\n",
    "        print(\"Self: \", self)\n",
    "        \n",
    "    def eating(self, isEating):\n",
    "        return isEating\n",
    "    \n",
    "    def sleeping(self, isSleeping):\n",
    "        return isSleeping\n",
    "        \n",
    "        "
   ]
  },
  {
   "cell_type": "code",
   "execution_count": 26,
   "id": "af01b199",
   "metadata": {},
   "outputs": [
    {
     "name": "stdout",
     "output_type": "stream",
     "text": [
      "Self:  <__main__.Dog object at 0x7f9e986495b0>\n",
      "{'name': 'Tommy', 'age': 3, 'color': 'Brown'}\n"
     ]
    }
   ],
   "source": [
    "d1 = Dog(\"Tommy\", 3, \"Brown\")\n",
    "print(d1.__dict__)"
   ]
  },
  {
   "cell_type": "code",
   "execution_count": 27,
   "id": "8425d62d",
   "metadata": {},
   "outputs": [
    {
     "name": "stdout",
     "output_type": "stream",
     "text": [
      "Self:  <__main__.Dog object at 0x7f9e88092f40>\n",
      "{'name': 'Lucky', 'age': 4, 'color': 'white'}\n"
     ]
    }
   ],
   "source": [
    "d2 = Dog(\"Lucky\", 4, \"white\")\n",
    "print(d2.__dict__)"
   ]
  },
  {
   "cell_type": "code",
   "execution_count": 10,
   "id": "869b53d3",
   "metadata": {},
   "outputs": [
    {
     "name": "stdout",
     "output_type": "stream",
     "text": [
      "False\n"
     ]
    }
   ],
   "source": [
    "print(d1.eating(\"False\"))"
   ]
  },
  {
   "cell_type": "code",
   "execution_count": 12,
   "id": "7e4a2b20",
   "metadata": {},
   "outputs": [
    {
     "data": {
      "text/plain": [
       "'white'"
      ]
     },
     "execution_count": 12,
     "metadata": {},
     "output_type": "execute_result"
    }
   ],
   "source": [
    "d2.color"
   ]
  },
  {
   "cell_type": "code",
   "execution_count": 28,
   "id": "3c26c0be",
   "metadata": {},
   "outputs": [
    {
     "name": "stdout",
     "output_type": "stream",
     "text": [
      "Self:  <__main__.Dog object at 0x7f9e880927f0>\n",
      "D3 :  <__main__.Dog object at 0x7f9e880927f0>\n"
     ]
    }
   ],
   "source": [
    "d3 = Dog(\"Jacky\", 5, \"Black\")\n",
    "print(\"D3 : \", d3)"
   ]
  },
  {
   "cell_type": "code",
   "execution_count": 15,
   "id": "4dd61b25",
   "metadata": {},
   "outputs": [
    {
     "name": "stdout",
     "output_type": "stream",
     "text": [
      "Tommy\n",
      "Lucky\n",
      "Jacky\n"
     ]
    }
   ],
   "source": [
    "print(d1.name)\n",
    "print(d2.name)\n",
    "print(d3.name)"
   ]
  },
  {
   "cell_type": "code",
   "execution_count": 17,
   "id": "69e4f480",
   "metadata": {},
   "outputs": [
    {
     "ename": "TypeError",
     "evalue": "__init__() missing 2 required positional arguments: 'age' and 'color'",
     "output_type": "error",
     "traceback": [
      "\u001b[0;31m---------------------------------------------------------------------------\u001b[0m",
      "\u001b[0;31mTypeError\u001b[0m                                 Traceback (most recent call last)",
      "\u001b[0;32m/var/folders/js/y6tppz5n6t72mb46qnkgxblc0000gq/T/ipykernel_29826/996032009.py\u001b[0m in \u001b[0;36m<module>\u001b[0;34m\u001b[0m\n\u001b[0;32m----> 1\u001b[0;31m \u001b[0md4\u001b[0m \u001b[0;34m=\u001b[0m \u001b[0mDog\u001b[0m\u001b[0;34m(\u001b[0m\u001b[0;34m\"abc\"\u001b[0m\u001b[0;34m)\u001b[0m\u001b[0;34m\u001b[0m\u001b[0;34m\u001b[0m\u001b[0m\n\u001b[0m",
      "\u001b[0;31mTypeError\u001b[0m: __init__() missing 2 required positional arguments: 'age' and 'color'"
     ]
    }
   ],
   "source": [
    "d4 = Dog(\"abc\")"
   ]
  },
  {
   "cell_type": "code",
   "execution_count": 19,
   "id": "3729be7a",
   "metadata": {},
   "outputs": [
    {
     "name": "stdout",
     "output_type": "stream",
     "text": [
      "Tommy\n",
      "Tommy\n"
     ]
    }
   ],
   "source": [
    "print(d1.name)\n",
    "print(getattr(d1, 'name'))"
   ]
  },
  {
   "cell_type": "code",
   "execution_count": 21,
   "id": "21bc0824",
   "metadata": {},
   "outputs": [
    {
     "name": "stdout",
     "output_type": "stream",
     "text": [
      "True\n"
     ]
    }
   ],
   "source": [
    "print(hasattr(d1, 'age'))"
   ]
  },
  {
   "cell_type": "code",
   "execution_count": 23,
   "id": "0a469b95",
   "metadata": {},
   "outputs": [
    {
     "name": "stdout",
     "output_type": "stream",
     "text": [
      "{'name': 'Tommy', 'age': 3, 'color': 'Brown'}\n"
     ]
    }
   ],
   "source": [
    "print(d1.__dict__)"
   ]
  },
  {
   "cell_type": "code",
   "execution_count": 24,
   "id": "6fdd69ac",
   "metadata": {},
   "outputs": [
    {
     "name": "stdout",
     "output_type": "stream",
     "text": [
      "{'name': 'Tommy', 'color': 'Brown'}\n"
     ]
    }
   ],
   "source": [
    "delattr(d1, 'age')\n",
    "print(d1.__dict__)"
   ]
  },
  {
   "cell_type": "code",
   "execution_count": 25,
   "id": "22be40e0",
   "metadata": {},
   "outputs": [],
   "source": [
    "class Dog:\n",
    "    \n",
    "    # class attr\n",
    "    var = 10\n",
    "    \n",
    "    def __init__(self, name, age, color):\n",
    "        \n",
    "        # object/instance attr\n",
    "        self.name = name\n",
    "        self.age = age\n",
    "        self.color = color\n",
    "        print(\"Self: \", self)\n",
    "        \n",
    "    def eating(self, isEating):\n",
    "        return isEating\n",
    "    \n",
    "    def sleeping(self, isSleeping):\n",
    "        return isSleeping\n",
    "        \n",
    "        "
   ]
  },
  {
   "cell_type": "code",
   "execution_count": 29,
   "id": "5afd6cdd",
   "metadata": {},
   "outputs": [
    {
     "data": {
      "text/plain": [
       "{'name': 'Tommy', 'age': 3, 'color': 'Brown'}"
      ]
     },
     "execution_count": 29,
     "metadata": {},
     "output_type": "execute_result"
    }
   ],
   "source": [
    "d1.__dict__"
   ]
  },
  {
   "cell_type": "code",
   "execution_count": 31,
   "id": "c4517f66",
   "metadata": {},
   "outputs": [
    {
     "name": "stdout",
     "output_type": "stream",
     "text": [
      "10\n",
      "10\n"
     ]
    }
   ],
   "source": [
    "print(d1.var)\n",
    "print(d2.var)"
   ]
  },
  {
   "cell_type": "code",
   "execution_count": 32,
   "id": "6b7b97cb",
   "metadata": {},
   "outputs": [
    {
     "name": "stdout",
     "output_type": "stream",
     "text": [
      "20\n",
      "20\n"
     ]
    }
   ],
   "source": [
    "Dog.var = 20\n",
    "print(d1.var)\n",
    "print(d2.var)"
   ]
  },
  {
   "cell_type": "code",
   "execution_count": 33,
   "id": "5428a586",
   "metadata": {},
   "outputs": [
    {
     "name": "stdout",
     "output_type": "stream",
     "text": [
      "abc\n",
      "Lucky\n"
     ]
    }
   ],
   "source": [
    "d1.name = \"abc\"\n",
    "print(d1.name)\n",
    "print(d2.name)"
   ]
  },
  {
   "cell_type": "code",
   "execution_count": 34,
   "id": "e1eff03d",
   "metadata": {},
   "outputs": [
    {
     "name": "stdout",
     "output_type": "stream",
     "text": [
      "{'name': 'abc', 'age': 3, 'color': 'Brown', 'price': 10}\n"
     ]
    }
   ],
   "source": [
    "d1.price = 10\n",
    "print(d1.__dict__)"
   ]
  },
  {
   "cell_type": "code",
   "execution_count": 37,
   "id": "f7f4810a",
   "metadata": {},
   "outputs": [
    {
     "name": "stdout",
     "output_type": "stream",
     "text": [
      "30\n",
      "20\n",
      "{'name': 'abc', 'age': 3, 'color': 'Brown', 'price': 10, 'var': 30}\n",
      "{'name': 'Lucky', 'age': 4, 'color': 'white'}\n"
     ]
    }
   ],
   "source": [
    "d1.var = 30\n",
    "print(d1.var)\n",
    "print(d2.var)\n",
    "print(d1.__dict__)\n",
    "print(d2.__dict__)"
   ]
  },
  {
   "cell_type": "code",
   "execution_count": 35,
   "id": "da10bfb6",
   "metadata": {},
   "outputs": [
    {
     "data": {
      "text/plain": [
       "20"
      ]
     },
     "execution_count": 35,
     "metadata": {},
     "output_type": "execute_result"
    }
   ],
   "source": [
    "Dog.var"
   ]
  },
  {
   "cell_type": "code",
   "execution_count": 78,
   "id": "0d513135",
   "metadata": {},
   "outputs": [],
   "source": [
    "class Dog:\n",
    "    \n",
    "    # class attr\n",
    "    price = 10\n",
    "    \n",
    "    def __init__(self, name, age, color):\n",
    "        \n",
    "        # object/instance attr\n",
    "        self.name = name\n",
    "        self.age = age\n",
    "        self.color = color\n",
    "        #print(\"Self: \", self)\n",
    "        \n",
    "    def eating(self, isEating):\n",
    "        return isEating\n",
    "    \n",
    "    def sleeping(self, isSleeping):\n",
    "        return isSleeping\n",
    "    \n",
    "    def about(self):\n",
    "        print(Dog.price, self.name,self.age,self.color)\n",
    "        print(self.eating(\"True\"))\n",
    "        Dog.setPrice(40)\n",
    "    \n",
    "    @classmethod\n",
    "    def setPrice(cls, price):\n",
    "        cls.price = price\n",
    "        \n",
    "    @staticmethod\n",
    "    def fun():\n",
    "        print(\"Hello i am here\")\n",
    "        self.name = \"ABC\"\n",
    "        "
   ]
  },
  {
   "cell_type": "code",
   "execution_count": 79,
   "id": "3124e30a",
   "metadata": {},
   "outputs": [
    {
     "name": "stdout",
     "output_type": "stream",
     "text": [
      "10 Tommy 2 Brown\n",
      "True\n"
     ]
    }
   ],
   "source": [
    "d1 = Dog(\"Tommy\", 2, \"Brown\")\n",
    "d1.about()"
   ]
  },
  {
   "cell_type": "code",
   "execution_count": 80,
   "id": "9d1a46c8",
   "metadata": {},
   "outputs": [
    {
     "name": "stdout",
     "output_type": "stream",
     "text": [
      "40\n",
      "30\n"
     ]
    }
   ],
   "source": [
    "print(Dog.price)\n",
    "Dog.setPrice(30)\n",
    "print(Dog.price)"
   ]
  },
  {
   "cell_type": "code",
   "execution_count": 81,
   "id": "52d24209",
   "metadata": {},
   "outputs": [
    {
     "data": {
      "text/plain": [
       "30"
      ]
     },
     "execution_count": 81,
     "metadata": {},
     "output_type": "execute_result"
    }
   ],
   "source": [
    "Dog.price"
   ]
  },
  {
   "cell_type": "code",
   "execution_count": 82,
   "id": "d0d24693",
   "metadata": {},
   "outputs": [
    {
     "name": "stdout",
     "output_type": "stream",
     "text": [
      "Hello i am here\n"
     ]
    },
    {
     "ename": "NameError",
     "evalue": "name 'self' is not defined",
     "output_type": "error",
     "traceback": [
      "\u001b[0;31m---------------------------------------------------------------------------\u001b[0m",
      "\u001b[0;31mNameError\u001b[0m                                 Traceback (most recent call last)",
      "\u001b[0;32m/var/folders/js/y6tppz5n6t72mb46qnkgxblc0000gq/T/ipykernel_29826/1526610558.py\u001b[0m in \u001b[0;36m<module>\u001b[0;34m\u001b[0m\n\u001b[0;32m----> 1\u001b[0;31m \u001b[0md1\u001b[0m\u001b[0;34m.\u001b[0m\u001b[0mfun\u001b[0m\u001b[0;34m(\u001b[0m\u001b[0;34m)\u001b[0m\u001b[0;34m\u001b[0m\u001b[0;34m\u001b[0m\u001b[0m\n\u001b[0m",
      "\u001b[0;32m/var/folders/js/y6tppz5n6t72mb46qnkgxblc0000gq/T/ipykernel_29826/4102755081.py\u001b[0m in \u001b[0;36mfun\u001b[0;34m()\u001b[0m\n\u001b[1;32m     30\u001b[0m     \u001b[0;32mdef\u001b[0m \u001b[0mfun\u001b[0m\u001b[0;34m(\u001b[0m\u001b[0;34m)\u001b[0m\u001b[0;34m:\u001b[0m\u001b[0;34m\u001b[0m\u001b[0;34m\u001b[0m\u001b[0m\n\u001b[1;32m     31\u001b[0m         \u001b[0mprint\u001b[0m\u001b[0;34m(\u001b[0m\u001b[0;34m\"Hello i am here\"\u001b[0m\u001b[0;34m)\u001b[0m\u001b[0;34m\u001b[0m\u001b[0;34m\u001b[0m\u001b[0m\n\u001b[0;32m---> 32\u001b[0;31m         \u001b[0mself\u001b[0m\u001b[0;34m.\u001b[0m\u001b[0mname\u001b[0m \u001b[0;34m=\u001b[0m \u001b[0;34m\"ABC\"\u001b[0m\u001b[0;34m\u001b[0m\u001b[0;34m\u001b[0m\u001b[0m\n\u001b[0m\u001b[1;32m     33\u001b[0m \u001b[0;34m\u001b[0m\u001b[0m\n",
      "\u001b[0;31mNameError\u001b[0m: name 'self' is not defined"
     ]
    }
   ],
   "source": [
    "d1.fun()"
   ]
  },
  {
   "cell_type": "code",
   "execution_count": 98,
   "id": "c207fda8",
   "metadata": {},
   "outputs": [],
   "source": [
    "class Dog:\n",
    "    \n",
    "    # class attr\n",
    "    price = 10\n",
    "    \n",
    "    def __init__(self, name, age, color):\n",
    "        \n",
    "        # object/instance attr\n",
    "        \n",
    "        # private\n",
    "        self.__name = name\n",
    "        \n",
    "        # protected\n",
    "        self._age = age\n",
    "        \n",
    "        # public\n",
    "        self.color = color\n",
    "        #print(\"Self: \", self)\n",
    "    \n",
    "    # public\n",
    "    def eating(self, isEating):\n",
    "        return isEating\n",
    "    \n",
    "    # private\n",
    "    def __sleeping(self, isSleeping):\n",
    "        return isSleeping\n",
    "    \n",
    "    def about(self):\n",
    "        print(Dog.price, self.__name,self._age,self.color)\n",
    "        print(self.eating(\"True\"))\n",
    "        Dog.setPrice(40)\n",
    "    \n",
    "    @classmethod\n",
    "    def setPrice(cls, price):\n",
    "        cls.price = price\n",
    "        \n",
    "    @staticmethod\n",
    "    def fun():\n",
    "        print(\"Hello i am here\")\n",
    "        self.name = \"ABC\"\n",
    "        "
   ]
  },
  {
   "cell_type": "code",
   "execution_count": 100,
   "id": "1172067e",
   "metadata": {},
   "outputs": [
    {
     "data": {
      "text/plain": [
       "True"
      ]
     },
     "execution_count": 100,
     "metadata": {},
     "output_type": "execute_result"
    }
   ],
   "source": [
    "d1 = Dog(\"gduss\", 23, \"dhsds\")\n",
    "d1._Dog__sleeping(True)"
   ]
  },
  {
   "cell_type": "code",
   "execution_count": 97,
   "id": "5a7de19b",
   "metadata": {},
   "outputs": [
    {
     "ename": "AttributeError",
     "evalue": "'Dog' object has no attribute 'age'",
     "output_type": "error",
     "traceback": [
      "\u001b[0;31m---------------------------------------------------------------------------\u001b[0m",
      "\u001b[0;31mAttributeError\u001b[0m                            Traceback (most recent call last)",
      "\u001b[0;32m/var/folders/js/y6tppz5n6t72mb46qnkgxblc0000gq/T/ipykernel_29826/3452832887.py\u001b[0m in \u001b[0;36m<module>\u001b[0;34m\u001b[0m\n\u001b[1;32m      1\u001b[0m \u001b[0md1\u001b[0m \u001b[0;34m=\u001b[0m \u001b[0mDog\u001b[0m\u001b[0;34m(\u001b[0m\u001b[0;34m\"gduss\"\u001b[0m\u001b[0;34m,\u001b[0m \u001b[0;36m23\u001b[0m\u001b[0;34m,\u001b[0m \u001b[0;34m\"dhsds\"\u001b[0m\u001b[0;34m)\u001b[0m\u001b[0;34m\u001b[0m\u001b[0;34m\u001b[0m\u001b[0m\n\u001b[0;32m----> 2\u001b[0;31m \u001b[0md1\u001b[0m\u001b[0;34m.\u001b[0m\u001b[0mabout\u001b[0m\u001b[0;34m(\u001b[0m\u001b[0;34m)\u001b[0m\u001b[0;34m\u001b[0m\u001b[0;34m\u001b[0m\u001b[0m\n\u001b[0m\u001b[1;32m      3\u001b[0m \u001b[0;31m#d1.__name\u001b[0m\u001b[0;34m\u001b[0m\u001b[0;34m\u001b[0m\u001b[0m\n",
      "\u001b[0;32m/var/folders/js/y6tppz5n6t72mb46qnkgxblc0000gq/T/ipykernel_29826/3864234626.py\u001b[0m in \u001b[0;36mabout\u001b[0;34m(self)\u001b[0m\n\u001b[1;32m     27\u001b[0m \u001b[0;34m\u001b[0m\u001b[0m\n\u001b[1;32m     28\u001b[0m     \u001b[0;32mdef\u001b[0m \u001b[0mabout\u001b[0m\u001b[0;34m(\u001b[0m\u001b[0mself\u001b[0m\u001b[0;34m)\u001b[0m\u001b[0;34m:\u001b[0m\u001b[0;34m\u001b[0m\u001b[0;34m\u001b[0m\u001b[0m\n\u001b[0;32m---> 29\u001b[0;31m         \u001b[0mprint\u001b[0m\u001b[0;34m(\u001b[0m\u001b[0mDog\u001b[0m\u001b[0;34m.\u001b[0m\u001b[0mprice\u001b[0m\u001b[0;34m,\u001b[0m \u001b[0mself\u001b[0m\u001b[0;34m.\u001b[0m\u001b[0m__name\u001b[0m\u001b[0;34m,\u001b[0m\u001b[0mself\u001b[0m\u001b[0;34m.\u001b[0m\u001b[0mage\u001b[0m\u001b[0;34m,\u001b[0m\u001b[0mself\u001b[0m\u001b[0;34m.\u001b[0m\u001b[0mcolor\u001b[0m\u001b[0;34m)\u001b[0m\u001b[0;34m\u001b[0m\u001b[0;34m\u001b[0m\u001b[0m\n\u001b[0m\u001b[1;32m     30\u001b[0m         \u001b[0mprint\u001b[0m\u001b[0;34m(\u001b[0m\u001b[0mself\u001b[0m\u001b[0;34m.\u001b[0m\u001b[0meating\u001b[0m\u001b[0;34m(\u001b[0m\u001b[0;34m\"True\"\u001b[0m\u001b[0;34m)\u001b[0m\u001b[0;34m)\u001b[0m\u001b[0;34m\u001b[0m\u001b[0;34m\u001b[0m\u001b[0m\n\u001b[1;32m     31\u001b[0m         \u001b[0mDog\u001b[0m\u001b[0;34m.\u001b[0m\u001b[0msetPrice\u001b[0m\u001b[0;34m(\u001b[0m\u001b[0;36m40\u001b[0m\u001b[0;34m)\u001b[0m\u001b[0;34m\u001b[0m\u001b[0;34m\u001b[0m\u001b[0m\n",
      "\u001b[0;31mAttributeError\u001b[0m: 'Dog' object has no attribute 'age'"
     ]
    }
   ],
   "source": [
    "d1 = Dog(\"gduss\", 23, \"dhsds\")\n",
    "d1.about()\n",
    "#d1.__name"
   ]
  },
  {
   "cell_type": "code",
   "execution_count": 101,
   "id": "2497b5b1",
   "metadata": {},
   "outputs": [
    {
     "data": {
      "text/plain": [
       "{'_Dog__name': 'gduss', '_age': 23, 'color': 'dhsds'}"
      ]
     },
     "execution_count": 101,
     "metadata": {},
     "output_type": "execute_result"
    }
   ],
   "source": [
    "d1.__dict__"
   ]
  },
  {
   "cell_type": "code",
   "execution_count": 94,
   "id": "1263980f",
   "metadata": {},
   "outputs": [
    {
     "data": {
      "text/plain": [
       "'gduss'"
      ]
     },
     "execution_count": 94,
     "metadata": {},
     "output_type": "execute_result"
    }
   ],
   "source": [
    "d1._Dog__name"
   ]
  },
  {
   "cell_type": "code",
   "execution_count": 95,
   "id": "6a831cb9",
   "metadata": {},
   "outputs": [
    {
     "data": {
      "text/plain": [
       "True"
      ]
     },
     "execution_count": 95,
     "metadata": {},
     "output_type": "execute_result"
    }
   ],
   "source": [
    "d1._Dog__sleeping(True)"
   ]
  },
  {
   "cell_type": "code",
   "execution_count": 102,
   "id": "7615eea1",
   "metadata": {},
   "outputs": [
    {
     "data": {
      "text/plain": [
       "23"
      ]
     },
     "execution_count": 102,
     "metadata": {},
     "output_type": "execute_result"
    }
   ],
   "source": [
    "d1._age"
   ]
  },
  {
   "cell_type": "code",
   "execution_count": null,
   "id": "98d7d198",
   "metadata": {},
   "outputs": [],
   "source": []
  },
  {
   "cell_type": "code",
   "execution_count": 146,
   "id": "ad9d9fe6",
   "metadata": {},
   "outputs": [],
   "source": [
    "class Employee:\n",
    "    \n",
    "    def __init__(self, first, last, pay):\n",
    "        self.first = first\n",
    "        self.last = last\n",
    "        self.pay = pay\n",
    "        self.email = first +\".\" + last+ \"@company.com\"\n",
    "        \n",
    "    def fullName(self):\n",
    "        print(self.first +\" \"+ self.last)\n",
    "        \n",
    "    def __fun(self):\n",
    "        print(\"fun\")\n",
    "    \n",
    "class Developer(Employee):\n",
    "    \n",
    "    def __init__(self, first, last, pay, prog_lang):\n",
    "        Employee.__init__(self, first, last, pay)\n",
    "        self.prog_lang = prog_lang\n",
    "        \n",
    "    def display(self):\n",
    "        print(self.first)\n",
    "    \n",
    "class Manager(Employee):\n",
    "    def __init__(self, first, last, pay, dep):\n",
    "        Employee.__init__(self, first, last, pay)\n",
    "        self.dep = dep"
   ]
  },
  {
   "cell_type": "code",
   "execution_count": 147,
   "id": "f65caca4",
   "metadata": {},
   "outputs": [
    {
     "name": "stdout",
     "output_type": "stream",
     "text": [
      "{'first': 'Ram', 'last': 'Singh', 'pay': 2000, 'email': 'Ram.Singh@company.com'}\n"
     ]
    }
   ],
   "source": [
    "o1 = Employee(\"Ram\", \"Singh\", 2000)\n",
    "print(o1.__dict__)"
   ]
  },
  {
   "cell_type": "code",
   "execution_count": 148,
   "id": "273d8cc7",
   "metadata": {},
   "outputs": [
    {
     "name": "stdout",
     "output_type": "stream",
     "text": [
      "{'first': 'Naresh', 'last': 'Saharan', 'pay': 2000, 'email': 'Naresh.Saharan@company.com', 'prog_lang': 'Python'}\n"
     ]
    }
   ],
   "source": [
    "dev_1 = Developer(\"Naresh\",\"Saharan\",2000, \"Python\")\n",
    "print(dev_1.__dict__)"
   ]
  },
  {
   "cell_type": "code",
   "execution_count": 137,
   "id": "8c1640eb",
   "metadata": {},
   "outputs": [
    {
     "name": "stdout",
     "output_type": "stream",
     "text": [
      "{'first': 'Mohan', 'last': 'Kumar', 'pay': 5000, 'email': 'Mohan.Kumar@company.com', 'dep': 'Dev'}\n"
     ]
    }
   ],
   "source": [
    "man_1 = Manager(\"Mohan\", \"Kumar\", 5000, \"Dev\")\n",
    "print(man_1.__dict__)"
   ]
  },
  {
   "cell_type": "code",
   "execution_count": 138,
   "id": "844b710e",
   "metadata": {},
   "outputs": [
    {
     "name": "stdout",
     "output_type": "stream",
     "text": [
      "Ram Singh\n",
      "Naresh Saharan\n",
      "Mohan Kumar\n"
     ]
    }
   ],
   "source": [
    "o1.fullName()\n",
    "dev_1.fullName()\n",
    "man_1.fullName()"
   ]
  },
  {
   "cell_type": "code",
   "execution_count": 140,
   "id": "ce67f0a8",
   "metadata": {},
   "outputs": [
    {
     "name": "stdout",
     "output_type": "stream",
     "text": [
      "fun\n"
     ]
    }
   ],
   "source": [
    "o1._Employee__fun()"
   ]
  },
  {
   "cell_type": "code",
   "execution_count": 149,
   "id": "f35814ad",
   "metadata": {},
   "outputs": [
    {
     "name": "stdout",
     "output_type": "stream",
     "text": [
      "fun\n"
     ]
    }
   ],
   "source": [
    "dev_1._Employee__fun()"
   ]
  },
  {
   "cell_type": "code",
   "execution_count": 150,
   "id": "72a73bbc",
   "metadata": {},
   "outputs": [
    {
     "name": "stdout",
     "output_type": "stream",
     "text": [
      "Naresh\n"
     ]
    }
   ],
   "source": [
    "dev_1.display()"
   ]
  },
  {
   "cell_type": "code",
   "execution_count": 151,
   "id": "e3adcc1f",
   "metadata": {},
   "outputs": [],
   "source": [
    "class Employee:\n",
    "    \n",
    "    def __init__(self, first, last, pay):\n",
    "        self.first = first\n",
    "        self.last = last\n",
    "        self.pay = pay\n",
    "        self.email = first +\".\" + last+ \"@company.com\"\n",
    "        \n",
    "    def fullName(self):\n",
    "        print(self.first +\" \"+ self.last)\n",
    "        \n",
    "    def __fun(self):\n",
    "        print(\"fun\")\n",
    "    \n",
    "class Developer(Employee):\n",
    "    \n",
    "    def __init__(self, first, last, pay, prog_lang):\n",
    "        super().__init__(first, last, pay)\n",
    "        self.prog_lang = prog_lang\n",
    "        \n",
    "    def display(self):\n",
    "        print(self.first)\n",
    "    \n",
    "class Manager(Employee):\n",
    "    def __init__(self, first, last, pay, dep):\n",
    "        Employee.__init__(self, first, last, pay)\n",
    "        self.dep = dep"
   ]
  },
  {
   "cell_type": "code",
   "execution_count": 152,
   "id": "bdd55e36",
   "metadata": {},
   "outputs": [
    {
     "name": "stdout",
     "output_type": "stream",
     "text": [
      "{'first': 'Naresh', 'last': 'Saharan', 'pay': 2000, 'email': 'Naresh.Saharan@company.com', 'prog_lang': 'Python'}\n"
     ]
    }
   ],
   "source": [
    "dev_1 = Developer(\"Naresh\",\"Saharan\",2000, \"Python\")\n",
    "print(dev_1.__dict__)"
   ]
  },
  {
   "cell_type": "code",
   "execution_count": null,
   "id": "d00efffa",
   "metadata": {},
   "outputs": [],
   "source": []
  }
 ],
 "metadata": {
  "kernelspec": {
   "display_name": "Python 3 (ipykernel)",
   "language": "python",
   "name": "python3"
  },
  "language_info": {
   "codemirror_mode": {
    "name": "ipython",
    "version": 3
   },
   "file_extension": ".py",
   "mimetype": "text/x-python",
   "name": "python",
   "nbconvert_exporter": "python",
   "pygments_lexer": "ipython3",
   "version": "3.9.7"
  }
 },
 "nbformat": 4,
 "nbformat_minor": 5
}
