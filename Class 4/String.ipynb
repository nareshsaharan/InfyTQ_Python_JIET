{
 "cells": [
  {
   "cell_type": "code",
   "execution_count": 2,
   "id": "004607ff",
   "metadata": {},
   "outputs": [
    {
     "name": "stdout",
     "output_type": "stream",
     "text": [
      "[2, 1, 3]\n",
      "[2, 1, 3, 0, 0, 0, 0]\n"
     ]
    }
   ],
   "source": [
    "li = [2,0,1,0,3,0,0]\n",
    "NumZero = li.count(0)\n",
    "out = []\n",
    "\n",
    "for i in range(len(li)):\n",
    "    if li[i] != 0:\n",
    "        out.append(li[i])\n",
    "        \n",
    "print(out)\n",
    "\n",
    "for i in range(NumZero):\n",
    "    out.append(0)\n",
    "    \n",
    "print(out)"
   ]
  },
  {
   "cell_type": "code",
   "execution_count": 3,
   "id": "8d95435f",
   "metadata": {},
   "outputs": [
    {
     "name": "stdout",
     "output_type": "stream",
     "text": [
      "hello\n"
     ]
    },
    {
     "data": {
      "text/plain": [
       "' jbfjkdsfnsf\\nfsdfdsfdsf\\nd\\nfdfdsfdsfdsf\\nfdsfdsfdsf\\nsdfds\\nfdsfdsbvdfgdfgd dfg '"
      ]
     },
     "execution_count": 3,
     "metadata": {},
     "output_type": "execute_result"
    }
   ],
   "source": [
    "print(\"hello\")\n",
    "\n",
    "\"\"\" jbfjkdsfnsf\n",
    "fsdfdsfdsf\n",
    "d\n",
    "fdfdsfdsfdsf\n",
    "fdsfdsfdsf\n",
    "sdfds\n",
    "fdsfdsbvdfgdfgd dfg \"\"\""
   ]
  },
  {
   "cell_type": "code",
   "execution_count": 4,
   "id": "05e63aad",
   "metadata": {},
   "outputs": [
    {
     "name": "stdout",
     "output_type": "stream",
     "text": [
      "1000000000000000000000\n"
     ]
    }
   ],
   "source": [
    "a = 1000000000000000000000\n",
    "print(a)"
   ]
  },
  {
   "cell_type": "code",
   "execution_count": 5,
   "id": "a4c81fb7",
   "metadata": {},
   "outputs": [
    {
     "name": "stdout",
     "output_type": "stream",
     "text": [
      "2.5\n"
     ]
    }
   ],
   "source": [
    "print(5/2)"
   ]
  },
  {
   "cell_type": "code",
   "execution_count": 6,
   "id": "c9efc86c",
   "metadata": {},
   "outputs": [
    {
     "name": "stdout",
     "output_type": "stream",
     "text": [
      "2\n"
     ]
    }
   ],
   "source": [
    "print(5//2)"
   ]
  },
  {
   "cell_type": "code",
   "execution_count": 7,
   "id": "400b8456",
   "metadata": {},
   "outputs": [
    {
     "name": "stdout",
     "output_type": "stream",
     "text": [
      "125\n"
     ]
    }
   ],
   "source": [
    "print(5**3)"
   ]
  },
  {
   "cell_type": "code",
   "execution_count": 8,
   "id": "028208c2",
   "metadata": {},
   "outputs": [
    {
     "name": "stdout",
     "output_type": "stream",
     "text": [
      "Enter Something123\n"
     ]
    },
    {
     "data": {
      "text/plain": [
       "str"
      ]
     },
     "execution_count": 8,
     "metadata": {},
     "output_type": "execute_result"
    }
   ],
   "source": [
    "a = float(input(\"Enter Something \"))\n",
    "type(a)"
   ]
  },
  {
   "cell_type": "code",
   "execution_count": 10,
   "id": "9251eccf",
   "metadata": {},
   "outputs": [
    {
     "name": "stdout",
     "output_type": "stream",
     "text": [
      "[1, 2, 1, 1, 5, 4]\n",
      "[1, 2, 1, 1, 5, 4, 0, 0, 0]\n"
     ]
    }
   ],
   "source": [
    "li = [1,2,0,1,0,1,5,0,4]\n",
    "no = li.count(0)\n",
    "ln = []\n",
    "for i in range(len(li)):\n",
    "    if li[i] != 0:\n",
    "        ln.append(li[i])\n",
    "print(ln)\n",
    "\n",
    "for i in range(no):\n",
    "    ln.append(0)\n",
    "    \n",
    "print(ln)"
   ]
  },
  {
   "cell_type": "code",
   "execution_count": 11,
   "id": "79e08506",
   "metadata": {},
   "outputs": [
    {
     "name": "stdout",
     "output_type": "stream",
     "text": [
      "6\n"
     ]
    }
   ],
   "source": [
    "n = 4   # 1 2 3 4\n",
    "i = 1\n",
    "currSum = 0\n",
    "\n",
    "while i <= n:\n",
    "    if i % 2 == 0:\n",
    "        currSum += i\n",
    "    i = i + 1\n",
    "      \n",
    "print(currSum)\n",
    "        "
   ]
  },
  {
   "cell_type": "markdown",
   "id": "b03b2786",
   "metadata": {},
   "source": [
    "# String\n"
   ]
  },
  {
   "cell_type": "code",
   "execution_count": 13,
   "id": "22e50fab",
   "metadata": {},
   "outputs": [],
   "source": [
    "s = 'hi'\n",
    "s1 = \"hello\"\n",
    "\n",
    "s3 = \"\"\" how are \n",
    "dfddf\n",
    "\n",
    "fsfsfdsfs\n",
    "\n",
    "fdsfsdsdf\n",
    "dsfsdfsdf you\"\"\""
   ]
  },
  {
   "cell_type": "code",
   "execution_count": 14,
   "id": "caa6db86",
   "metadata": {},
   "outputs": [
    {
     "name": "stdout",
     "output_type": "stream",
     "text": [
      " how are \n",
      "dfddf\n",
      "\n",
      "fsfsfdsfs\n",
      "\n",
      "fdsfsdsdf\n",
      "dsfsdfsdf you\n"
     ]
    }
   ],
   "source": [
    "print(s3)"
   ]
  },
  {
   "cell_type": "code",
   "execution_count": 15,
   "id": "720949d0",
   "metadata": {},
   "outputs": [
    {
     "name": "stdout",
     "output_type": "stream",
     "text": [
      "sfsdjufsb fsdfisdnf sdfisf \n"
     ]
    }
   ],
   "source": [
    "s = input()"
   ]
  },
  {
   "cell_type": "code",
   "execution_count": 17,
   "id": "5909913f",
   "metadata": {},
   "outputs": [
    {
     "name": "stdout",
     "output_type": "stream",
     "text": [
      "h\n",
      "o\n",
      "hello\n"
     ]
    }
   ],
   "source": [
    "s = \"hello\"\n",
    "print(s[0])\n",
    "print(s[-1])\n",
    "print(s)"
   ]
  },
  {
   "cell_type": "code",
   "execution_count": 18,
   "id": "47772196",
   "metadata": {},
   "outputs": [],
   "source": [
    "s1 = \"hello\""
   ]
  },
  {
   "cell_type": "code",
   "execution_count": 19,
   "id": "d564c63a",
   "metadata": {},
   "outputs": [
    {
     "name": "stdout",
     "output_type": "stream",
     "text": [
      "140503684637744\n",
      "140503684637744\n"
     ]
    }
   ],
   "source": [
    "print(id(s))\n",
    "print(id(s1))"
   ]
  },
  {
   "cell_type": "code",
   "execution_count": 20,
   "id": "9da52a32",
   "metadata": {},
   "outputs": [
    {
     "name": "stdout",
     "output_type": "stream",
     "text": [
      "hello\n"
     ]
    }
   ],
   "source": [
    "print(s1)"
   ]
  },
  {
   "cell_type": "code",
   "execution_count": 21,
   "id": "abd914e9",
   "metadata": {},
   "outputs": [
    {
     "ename": "TypeError",
     "evalue": "'str' object does not support item assignment",
     "output_type": "error",
     "traceback": [
      "\u001b[0;31m---------------------------------------------------------------------------\u001b[0m",
      "\u001b[0;31mTypeError\u001b[0m                                 Traceback (most recent call last)",
      "\u001b[0;32m/var/folders/js/y6tppz5n6t72mb46qnkgxblc0000gq/T/ipykernel_23288/645961564.py\u001b[0m in \u001b[0;36m<module>\u001b[0;34m\u001b[0m\n\u001b[0;32m----> 1\u001b[0;31m \u001b[0ms1\u001b[0m\u001b[0;34m[\u001b[0m\u001b[0;36m0\u001b[0m\u001b[0;34m]\u001b[0m \u001b[0;34m=\u001b[0m \u001b[0;34m'r'\u001b[0m\u001b[0;34m\u001b[0m\u001b[0;34m\u001b[0m\u001b[0m\n\u001b[0m",
      "\u001b[0;31mTypeError\u001b[0m: 'str' object does not support item assignment"
     ]
    }
   ],
   "source": [
    "s1[0] = 'r'"
   ]
  },
  {
   "cell_type": "code",
   "execution_count": 22,
   "id": "15210ada",
   "metadata": {},
   "outputs": [],
   "source": [
    "s1 = \"hi\""
   ]
  },
  {
   "cell_type": "code",
   "execution_count": 24,
   "id": "2376e315",
   "metadata": {},
   "outputs": [
    {
     "name": "stdout",
     "output_type": "stream",
     "text": [
      "hi hello\n"
     ]
    }
   ],
   "source": [
    "s = \"hi \"\n",
    "s1 = \"hello\"\n",
    "s3 = s + s1\n",
    "print(s3)"
   ]
  },
  {
   "cell_type": "code",
   "execution_count": 26,
   "id": "38ffc119",
   "metadata": {},
   "outputs": [
    {
     "name": "stdout",
     "output_type": "stream",
     "text": [
      "hi \n"
     ]
    }
   ],
   "source": [
    "print(s)"
   ]
  },
  {
   "cell_type": "code",
   "execution_count": 27,
   "id": "8755ff73",
   "metadata": {},
   "outputs": [
    {
     "name": "stdout",
     "output_type": "stream",
     "text": [
      "hi hi hi \n"
     ]
    }
   ],
   "source": [
    "s = s*3\n",
    "print(s)"
   ]
  },
  {
   "cell_type": "code",
   "execution_count": 28,
   "id": "502d0c51",
   "metadata": {},
   "outputs": [
    {
     "name": "stdout",
     "output_type": "stream",
     "text": [
      "[1, 2, 3, 1, 2, 3, 1, 2, 3]\n"
     ]
    }
   ],
   "source": [
    "li = [1, 2, 3]\n",
    "li = li*3\n",
    "print(li)"
   ]
  },
  {
   "cell_type": "code",
   "execution_count": 33,
   "id": "87f494cc",
   "metadata": {},
   "outputs": [
    {
     "name": "stdout",
     "output_type": "stream",
     "text": [
      "0\n",
      "0\n",
      "0\n",
      "0\n",
      "0\n",
      "0\n",
      "0\n",
      "0\n",
      "0\n",
      "0\n",
      "[0, 0, 0, 0, 0, 0, 0, 0, 0, 0]\n"
     ]
    }
   ],
   "source": [
    "li = [0]*10\n",
    "for i in li:\n",
    "    print(i)\n",
    "print(li)"
   ]
  },
  {
   "cell_type": "code",
   "execution_count": 32,
   "id": "7100d676",
   "metadata": {},
   "outputs": [
    {
     "name": "stdout",
     "output_type": "stream",
     "text": [
      "hello3\n"
     ]
    }
   ],
   "source": [
    "a = \"hello\" + str(3)\n",
    "print(a)"
   ]
  },
  {
   "cell_type": "code",
   "execution_count": 34,
   "id": "a046d75f",
   "metadata": {},
   "outputs": [
    {
     "ename": "TypeError",
     "evalue": "can only concatenate str (not \"int\") to str",
     "output_type": "error",
     "traceback": [
      "\u001b[0;31m---------------------------------------------------------------------------\u001b[0m",
      "\u001b[0;31mTypeError\u001b[0m                                 Traceback (most recent call last)",
      "\u001b[0;32m/var/folders/js/y6tppz5n6t72mb46qnkgxblc0000gq/T/ipykernel_23288/1431180085.py\u001b[0m in \u001b[0;36m<module>\u001b[0;34m\u001b[0m\n\u001b[0;32m----> 1\u001b[0;31m \u001b[0ma\u001b[0m \u001b[0;34m=\u001b[0m \u001b[0;34m\"hello \"\u001b[0m\u001b[0;34m+\u001b[0m \u001b[0;36m3\u001b[0m\u001b[0;34m\u001b[0m\u001b[0;34m\u001b[0m\u001b[0m\n\u001b[0m",
      "\u001b[0;31mTypeError\u001b[0m: can only concatenate str (not \"int\") to str"
     ]
    }
   ],
   "source": [
    "a = \"hello \"+ 3"
   ]
  },
  {
   "cell_type": "code",
   "execution_count": 35,
   "id": "443fdbe9",
   "metadata": {},
   "outputs": [
    {
     "name": "stdout",
     "output_type": "stream",
     "text": [
      "hello 3\n"
     ]
    }
   ],
   "source": [
    "a = \"hello \" + str(3)\n",
    "print(a)\n"
   ]
  },
  {
   "cell_type": "code",
   "execution_count": 38,
   "id": "ed4cd66d",
   "metadata": {},
   "outputs": [
    {
     "name": "stdout",
     "output_type": "stream",
     "text": [
      "llo\n",
      "hello\n",
      "o123miccheck\n",
      "hello123miccheck\n"
     ]
    }
   ],
   "source": [
    "a =\"hello123miccheck\"\n",
    "\n",
    "print(a[2:5])\n",
    "print(a[:5])\n",
    "print(a[4:])\n",
    "print(a[:])"
   ]
  },
  {
   "cell_type": "code",
   "execution_count": 52,
   "id": "dfae6fe2",
   "metadata": {},
   "outputs": [
    {
     "name": "stdout",
     "output_type": "stream",
     "text": [
      "h\n",
      "e\n",
      "l\n",
      "l\n",
      "o\n"
     ]
    }
   ],
   "source": [
    "a = \"hello\"\n",
    "for i in a:\n",
    "    print(i)\n",
    "    "
   ]
  },
  {
   "cell_type": "code",
   "execution_count": 40,
   "id": "93a53fcf",
   "metadata": {},
   "outputs": [
    {
     "name": "stdout",
     "output_type": "stream",
     "text": [
      "h\n",
      "e\n",
      "l\n",
      "l\n",
      "o\n"
     ]
    }
   ],
   "source": [
    "for i in range(len(a)):\n",
    "    print(a[i])"
   ]
  },
  {
   "cell_type": "code",
   "execution_count": 41,
   "id": "3baad6d2",
   "metadata": {},
   "outputs": [
    {
     "name": "stdout",
     "output_type": "stream",
     "text": [
      "hello\n"
     ]
    }
   ],
   "source": [
    "print(a)"
   ]
  },
  {
   "cell_type": "code",
   "execution_count": 42,
   "id": "d71571ed",
   "metadata": {},
   "outputs": [
    {
     "name": "stdout",
     "output_type": "stream",
     "text": [
      "yes\n"
     ]
    }
   ],
   "source": [
    "if \"he\" in a:\n",
    "    print(\"yes\")\n",
    "else:\n",
    "    print(\"no\")"
   ]
  },
  {
   "cell_type": "code",
   "execution_count": 43,
   "id": "4bd117b3",
   "metadata": {},
   "outputs": [
    {
     "name": "stdout",
     "output_type": "stream",
     "text": [
      "no\n"
     ]
    }
   ],
   "source": [
    "if \"lle\" in a:\n",
    "    print(\"yes\")\n",
    "else:\n",
    "    print(\"no\")"
   ]
  },
  {
   "cell_type": "code",
   "execution_count": 56,
   "id": "bdfd4889",
   "metadata": {},
   "outputs": [
    {
     "name": "stdout",
     "output_type": "stream",
     "text": [
      "False\n"
     ]
    }
   ],
   "source": [
    "a = 'Naresh'\n",
    "b = 'Nar'\n",
    "\n",
    "print(a == b)"
   ]
  },
  {
   "cell_type": "code",
   "execution_count": 47,
   "id": "81c26c4d",
   "metadata": {},
   "outputs": [
    {
     "name": "stdout",
     "output_type": "stream",
     "text": [
      "123456\n"
     ]
    }
   ],
   "source": [
    "a = \"123456\"\n",
    "print(a)"
   ]
  },
  {
   "cell_type": "code",
   "execution_count": 53,
   "id": "9b74d93a",
   "metadata": {},
   "outputs": [
    {
     "name": "stdout",
     "output_type": "stream",
     "text": [
      "[3, 2, 1]\n"
     ]
    }
   ],
   "source": [
    "li = [1,2,3]\n",
    "print(li[ : :-1])"
   ]
  },
  {
   "cell_type": "code",
   "execution_count": 54,
   "id": "5bef7a79",
   "metadata": {},
   "outputs": [],
   "source": [
    "a = \"hello\""
   ]
  },
  {
   "cell_type": "code",
   "execution_count": 55,
   "id": "aaf7d7e8",
   "metadata": {},
   "outputs": [
    {
     "name": "stdout",
     "output_type": "stream",
     "text": [
      "olleh\n"
     ]
    }
   ],
   "source": [
    "print(a[ : : -1])"
   ]
  },
  {
   "cell_type": "code",
   "execution_count": 58,
   "id": "ccd6eede",
   "metadata": {},
   "outputs": [
    {
     "name": "stdout",
     "output_type": "stream",
     "text": [
      "radar\n",
      "Palindrome\n"
     ]
    }
   ],
   "source": [
    "s = input()\n",
    "\n",
    "rev = s[ : :-1]\n",
    "\n",
    "if s == rev:\n",
    "    print(\"Palindrome\")\n",
    "else:\n",
    "    print(\"Not Palindrome\")"
   ]
  },
  {
   "cell_type": "code",
   "execution_count": 61,
   "id": "e3c4b764",
   "metadata": {},
   "outputs": [
    {
     "name": "stdout",
     "output_type": "stream",
     "text": [
      "olleh\n"
     ]
    }
   ],
   "source": [
    "s = \"hello\"\n",
    "rev = \"\"\n",
    "\n",
    "for i in range(len(s) - 1, -1, -1):\n",
    "    rev += s[i]\n",
    "    \n",
    "print(rev)"
   ]
  },
  {
   "cell_type": "code",
   "execution_count": 63,
   "id": "b0f4092d",
   "metadata": {},
   "outputs": [
    {
     "name": "stdout",
     "output_type": "stream",
     "text": [
      "olleh\n"
     ]
    }
   ],
   "source": [
    "s = \"hello\"\n",
    "rev = \"\"\n",
    "\n",
    "for i in range(len(s)):\n",
    "    rev = s[i] + rev\n",
    "    \n",
    "print(rev)"
   ]
  },
  {
   "cell_type": "code",
   "execution_count": 66,
   "id": "7daaf6d8",
   "metadata": {},
   "outputs": [
    {
     "name": "stdout",
     "output_type": "stream",
     "text": [
      "['hi', 'hello', 'how', 'are', 'you']\n"
     ]
    }
   ],
   "source": [
    "s = \"hi,hello,how,are,you\"\n",
    "print(s.split(\",\"))"
   ]
  },
  {
   "cell_type": "code",
   "execution_count": 67,
   "id": "fa9a80cb",
   "metadata": {},
   "outputs": [
    {
     "name": "stdout",
     "output_type": "stream",
     "text": [
      "['hi', 'hello', 'how', 'are', 'you']\n"
     ]
    }
   ],
   "source": [
    "s = \"hi*hello*how*are*you\"\n",
    "print(s.split(\"*\"))"
   ]
  },
  {
   "cell_type": "code",
   "execution_count": 71,
   "id": "eedab2b3",
   "metadata": {},
   "outputs": [
    {
     "name": "stdout",
     "output_type": "stream",
     "text": [
      "['hi', 'hello how are you']\n"
     ]
    }
   ],
   "source": [
    "s = \"hi hello how are you\"\n",
    "print(s.split(\" \", 1))"
   ]
  },
  {
   "cell_type": "code",
   "execution_count": 72,
   "id": "6a83ef9c",
   "metadata": {},
   "outputs": [
    {
     "name": "stdout",
     "output_type": "stream",
     "text": [
      "Ram hello dsfsd fsdf\n"
     ]
    }
   ],
   "source": [
    "s = \"hi hello dsfsd fsdf\"\n",
    "print(s.replace(\"hi\", \"Ram\"))"
   ]
  },
  {
   "cell_type": "code",
   "execution_count": 73,
   "id": "9b04d17d",
   "metadata": {},
   "outputs": [
    {
     "name": "stdout",
     "output_type": "stream",
     "text": [
      "Ram hello dsfsd Ram fsdf\n"
     ]
    }
   ],
   "source": [
    "s = \"hi hello dsfsd hi fsdf\"\n",
    "print(s.replace(\"hi\", \"Ram\"))"
   ]
  },
  {
   "cell_type": "code",
   "execution_count": 74,
   "id": "f2ba5b2f",
   "metadata": {},
   "outputs": [
    {
     "name": "stdout",
     "output_type": "stream",
     "text": [
      "Ram hello dsfsd hi fsdf\n"
     ]
    }
   ],
   "source": [
    "s = \"hi hello dsfsd hi fsdf\"\n",
    "print(s.replace(\"hi\", \"Ram\", 1))"
   ]
  },
  {
   "cell_type": "code",
   "execution_count": 77,
   "id": "79636487",
   "metadata": {},
   "outputs": [
    {
     "name": "stdout",
     "output_type": "stream",
     "text": [
      "-1\n"
     ]
    }
   ],
   "source": [
    "s = \"hi sdhds sdfs fsdf\"\n",
    "print(s.find(\"rtsdh\"))"
   ]
  },
  {
   "cell_type": "code",
   "execution_count": 79,
   "id": "4e828827",
   "metadata": {},
   "outputs": [
    {
     "name": "stdout",
     "output_type": "stream",
     "text": [
      "dsf ghaj ash h\n"
     ]
    }
   ],
   "source": [
    "s = \"dsf GHaj ASh H\"\n",
    "print(s.lower())"
   ]
  },
  {
   "cell_type": "code",
   "execution_count": 80,
   "id": "940b8c9c",
   "metadata": {},
   "outputs": [
    {
     "name": "stdout",
     "output_type": "stream",
     "text": [
      "DSF GHAJ ASH H\n"
     ]
    }
   ],
   "source": [
    "s = \"dsf GHaj ASh H\"\n",
    "print(s.upper())"
   ]
  },
  {
   "cell_type": "code",
   "execution_count": 82,
   "id": "b29c93cd",
   "metadata": {},
   "outputs": [
    {
     "name": "stdout",
     "output_type": "stream",
     "text": [
      "False\n"
     ]
    }
   ],
   "source": [
    "s = \"hi sd siffd\"\n",
    "print(s.startswith(\"hello\"))"
   ]
  },
  {
   "cell_type": "code",
   "execution_count": 83,
   "id": "03e684a3",
   "metadata": {},
   "outputs": [
    {
     "name": "stdout",
     "output_type": "stream",
     "text": [
      "Fhddf df dfdf \n"
     ]
    }
   ],
   "source": [
    "s =\"fhddf df dfdf \"\n",
    "print(s.capitalize())"
   ]
  },
  {
   "cell_type": "code",
   "execution_count": 1,
   "id": "96ea2fce",
   "metadata": {},
   "outputs": [
    {
     "ename": "TypeError",
     "evalue": "'str' object does not support item assignment",
     "output_type": "error",
     "traceback": [
      "\u001b[0;31m---------------------------------------------------------------------------\u001b[0m",
      "\u001b[0;31mTypeError\u001b[0m                                 Traceback (most recent call last)",
      "\u001b[0;32m/var/folders/js/y6tppz5n6t72mb46qnkgxblc0000gq/T/ipykernel_93420/586024766.py\u001b[0m in \u001b[0;36m<module>\u001b[0;34m\u001b[0m\n\u001b[1;32m      1\u001b[0m \u001b[0ma\u001b[0m \u001b[0;34m=\u001b[0m \u001b[0;34m\"Hi\"\u001b[0m\u001b[0;34m\u001b[0m\u001b[0;34m\u001b[0m\u001b[0m\n\u001b[0;32m----> 2\u001b[0;31m \u001b[0ma\u001b[0m\u001b[0;34m[\u001b[0m\u001b[0;36m1\u001b[0m\u001b[0;34m]\u001b[0m \u001b[0;34m=\u001b[0m \u001b[0;34m'o'\u001b[0m\u001b[0;34m\u001b[0m\u001b[0;34m\u001b[0m\u001b[0m\n\u001b[0m\u001b[1;32m      3\u001b[0m \u001b[0mprint\u001b[0m\u001b[0;34m(\u001b[0m\u001b[0ma\u001b[0m\u001b[0;34m)\u001b[0m\u001b[0;34m\u001b[0m\u001b[0;34m\u001b[0m\u001b[0m\n",
      "\u001b[0;31mTypeError\u001b[0m: 'str' object does not support item assignment"
     ]
    }
   ],
   "source": [
    "a = \"Hi\"\n",
    "a[1] = 'o'\n",
    "print(a)"
   ]
  },
  {
   "cell_type": "code",
   "execution_count": 3,
   "id": "19b19ea2",
   "metadata": {},
   "outputs": [
    {
     "name": "stdout",
     "output_type": "stream",
     "text": [
      "97\n",
      "122\n"
     ]
    }
   ],
   "source": [
    "a = 'a'\n",
    "print(ord(a))\n",
    "a = 'z'\n",
    "print(ord(a))"
   ]
  },
  {
   "cell_type": "code",
   "execution_count": 4,
   "id": "b94aad66",
   "metadata": {},
   "outputs": [
    {
     "name": "stdout",
     "output_type": "stream",
     "text": [
      "65\n"
     ]
    }
   ],
   "source": [
    "print(ord('A'))"
   ]
  },
  {
   "cell_type": "code",
   "execution_count": 5,
   "id": "31ea7980",
   "metadata": {},
   "outputs": [
    {
     "name": "stdout",
     "output_type": "stream",
     "text": [
      "90\n"
     ]
    }
   ],
   "source": [
    "print(ord('Z'))"
   ]
  },
  {
   "cell_type": "code",
   "execution_count": 6,
   "id": "099c3c36",
   "metadata": {},
   "outputs": [
    {
     "name": "stdout",
     "output_type": "stream",
     "text": [
      "48\n"
     ]
    }
   ],
   "source": [
    "print(ord('0'))"
   ]
  },
  {
   "cell_type": "code",
   "execution_count": 7,
   "id": "e5921644",
   "metadata": {},
   "outputs": [
    {
     "name": "stdout",
     "output_type": "stream",
     "text": [
      "57\n"
     ]
    }
   ],
   "source": [
    "print(ord('9'))"
   ]
  },
  {
   "cell_type": "code",
   "execution_count": 8,
   "id": "86c7011a",
   "metadata": {},
   "outputs": [
    {
     "name": "stdout",
     "output_type": "stream",
     "text": [
      "A\n"
     ]
    }
   ],
   "source": [
    "print(chr(65))"
   ]
  },
  {
   "cell_type": "code",
   "execution_count": 9,
   "id": "b19f079f",
   "metadata": {},
   "outputs": [
    {
     "name": "stdout",
     "output_type": "stream",
     "text": [
      "a\n"
     ]
    }
   ],
   "source": [
    "print(chr(97))"
   ]
  },
  {
   "cell_type": "code",
   "execution_count": 15,
   "id": "f980a7c1",
   "metadata": {},
   "outputs": [
    {
     "data": {
      "text/plain": [
       "'aazzcc'"
      ]
     },
     "execution_count": 15,
     "metadata": {},
     "output_type": "execute_result"
    }
   ],
   "source": [
    "s = \"aabbcc\"\n",
    "x = 'b'\n",
    "y = 'z'\n",
    "#print(s.replace(x,y))\n",
    "replaceChar(s, x, y)"
   ]
  },
  {
   "cell_type": "code",
   "execution_count": 14,
   "id": "658585e3",
   "metadata": {},
   "outputs": [],
   "source": [
    "def replaceChar(s, x, y):\n",
    "    out = \"\"\n",
    "    for i in range(len(s)):\n",
    "        if s[i] == x:\n",
    "            out += y\n",
    "        else:\n",
    "            out += s[i]\n",
    "    return out\n",
    "    "
   ]
  },
  {
   "cell_type": "code",
   "execution_count": null,
   "id": "15208a8a",
   "metadata": {},
   "outputs": [],
   "source": []
  },
  {
   "cell_type": "code",
   "execution_count": 19,
   "id": "815b806b",
   "metadata": {},
   "outputs": [],
   "source": [
    "def findEverything(s):\n",
    "    v, c, d, sp = 0, 0, 0, 0\n",
    "    \n",
    "    for i in range(len(s)):\n",
    "        if s[i] >= '0' and s[i] <= '9':\n",
    "            d += 1\n",
    "        elif (s[i] >= 'A' and s[i] <= 'Z') or (s[i] >= 'a' and s[i] <= 'z'):\n",
    "            ch = s[i].lower()\n",
    "            if ch == 'a' or ch == 'e' or ch == 'i' or ch == 'o' or ch == 'u':\n",
    "                v += 1\n",
    "            else:\n",
    "                c += 1\n",
    "        else:\n",
    "            sp += 1\n",
    "    return v , c, d, sp\n",
    "    "
   ]
  },
  {
   "cell_type": "code",
   "execution_count": 21,
   "id": "91f69a93",
   "metadata": {},
   "outputs": [
    {
     "name": "stdout",
     "output_type": "stream",
     "text": [
      "5 17 2 6\n"
     ]
    }
   ],
   "source": [
    "s = \"jhdsbfsj_*fjw%ei@fiwe13_WE_dfg\"\n",
    "v, c, d ,sp = findEverything(s)\n",
    "print(v , c, d, sp)"
   ]
  },
  {
   "cell_type": "code",
   "execution_count": 22,
   "id": "74cea050",
   "metadata": {},
   "outputs": [
    {
     "name": "stdout",
     "output_type": "stream",
     "text": [
      "2 1 1 2\n"
     ]
    }
   ],
   "source": [
    "s = \"AeW1@#\"\n",
    "v, c, d ,sp = findEverything(s)\n",
    "print(v , c, d, sp)"
   ]
  },
  {
   "cell_type": "code",
   "execution_count": null,
   "id": "5d671238",
   "metadata": {},
   "outputs": [],
   "source": []
  },
  {
   "cell_type": "code",
   "execution_count": 23,
   "id": "70dd4ddf",
   "metadata": {},
   "outputs": [],
   "source": [
    "def removeChar(s, x):\n",
    "    out = \"\"\n",
    "    for i in range(len(s)):\n",
    "        if s[i] == x:\n",
    "            pass\n",
    "        else:\n",
    "            out += s[i]\n",
    "    return out"
   ]
  },
  {
   "cell_type": "code",
   "execution_count": 25,
   "id": "f8988f9b",
   "metadata": {},
   "outputs": [
    {
     "name": "stdout",
     "output_type": "stream",
     "text": [
      "aabbdd\n"
     ]
    }
   ],
   "source": [
    "s = \"aabbccdd\"\n",
    "x = 'c'\n",
    "print(s.replace(x,\"\"))\n",
    "#print(removeChar(s, x))"
   ]
  },
  {
   "cell_type": "code",
   "execution_count": null,
   "id": "6a43a582",
   "metadata": {},
   "outputs": [],
   "source": []
  },
  {
   "cell_type": "code",
   "execution_count": 31,
   "id": "40029f5e",
   "metadata": {},
   "outputs": [],
   "source": [
    "def highestFreqChar(s):\n",
    "    \n",
    "    count = 0\n",
    "    li = [0]*26\n",
    "    \n",
    "    for i in range(len(s)):\n",
    "        ind = ord(s[i]) - 97\n",
    "        li[ind] += 1\n",
    "    print(li)\n",
    "    \n",
    "    count = max(li)\n",
    "    \n",
    "    for i in range(len(s)):\n",
    "        ind = ord(s[i]) - 97\n",
    "        \n",
    "        if li[ind] == count:\n",
    "            return s[i]\n",
    "    \n",
    "    \n",
    "    "
   ]
  },
  {
   "cell_type": "code",
   "execution_count": 35,
   "id": "51f1efa9",
   "metadata": {},
   "outputs": [
    {
     "name": "stdout",
     "output_type": "stream",
     "text": [
      "[1, 1, 1, 1, 1, 1, 1, 1, 1, 1, 1, 1, 1, 1, 1, 1, 1, 1, 1, 1, 1, 1, 1, 1, 1, 1]\n",
      "a\n"
     ]
    }
   ],
   "source": [
    "s = \"abcdefghijklmnopqrstuvwxyz\"\n",
    "print(highestFreqChar(s))"
   ]
  },
  {
   "cell_type": "code",
   "execution_count": null,
   "id": "013decef",
   "metadata": {},
   "outputs": [],
   "source": []
  },
  {
   "cell_type": "code",
   "execution_count": null,
   "id": "71c0d5aa",
   "metadata": {},
   "outputs": [],
   "source": []
  },
  {
   "cell_type": "code",
   "execution_count": null,
   "id": "0412fc48",
   "metadata": {},
   "outputs": [],
   "source": []
  },
  {
   "cell_type": "code",
   "execution_count": null,
   "id": "ac054456",
   "metadata": {},
   "outputs": [],
   "source": []
  },
  {
   "cell_type": "code",
   "execution_count": null,
   "id": "0b3cb404",
   "metadata": {},
   "outputs": [],
   "source": []
  },
  {
   "cell_type": "code",
   "execution_count": null,
   "id": "5b828399",
   "metadata": {},
   "outputs": [],
   "source": []
  },
  {
   "cell_type": "code",
   "execution_count": null,
   "id": "7f53b514",
   "metadata": {},
   "outputs": [],
   "source": []
  },
  {
   "cell_type": "code",
   "execution_count": null,
   "id": "e6fb6699",
   "metadata": {},
   "outputs": [],
   "source": []
  },
  {
   "cell_type": "code",
   "execution_count": null,
   "id": "7dcac7bf",
   "metadata": {},
   "outputs": [],
   "source": []
  },
  {
   "cell_type": "code",
   "execution_count": null,
   "id": "52580f49",
   "metadata": {},
   "outputs": [],
   "source": []
  },
  {
   "cell_type": "code",
   "execution_count": null,
   "id": "6d1f3853",
   "metadata": {},
   "outputs": [],
   "source": []
  },
  {
   "cell_type": "code",
   "execution_count": null,
   "id": "aad1ffb9",
   "metadata": {},
   "outputs": [],
   "source": []
  }
 ],
 "metadata": {
  "kernelspec": {
   "display_name": "Python 3 (ipykernel)",
   "language": "python",
   "name": "python3"
  },
  "language_info": {
   "codemirror_mode": {
    "name": "ipython",
    "version": 3
   },
   "file_extension": ".py",
   "mimetype": "text/x-python",
   "name": "python",
   "nbconvert_exporter": "python",
   "pygments_lexer": "ipython3",
   "version": "3.9.7"
  }
 },
 "nbformat": 4,
 "nbformat_minor": 5
}
