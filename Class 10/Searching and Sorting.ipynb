{
 "cells": [
  {
   "cell_type": "code",
   "execution_count": 1,
   "id": "bfbbfa25",
   "metadata": {},
   "outputs": [],
   "source": [
    "li = [1, 2, 3, 4, 5]"
   ]
  },
  {
   "cell_type": "code",
   "execution_count": 2,
   "id": "c3133d8e",
   "metadata": {},
   "outputs": [],
   "source": [
    "def linearSearch(li, ele):\n",
    "    \n",
    "    for i in range(len(li)):\n",
    "        if li[i] == ele:\n",
    "            return True\n",
    "        \n",
    "    return False"
   ]
  },
  {
   "cell_type": "code",
   "execution_count": 5,
   "id": "fdd495e9",
   "metadata": {},
   "outputs": [
    {
     "name": "stdout",
     "output_type": "stream",
     "text": [
      "True\n"
     ]
    },
    {
     "data": {
      "text/plain": [
       "True"
      ]
     },
     "execution_count": 5,
     "metadata": {},
     "output_type": "execute_result"
    }
   ],
   "source": [
    "print(linearSearch(li, 4))\n",
    "ele = 4\n",
    "ele in li"
   ]
  },
  {
   "cell_type": "code",
   "execution_count": 6,
   "id": "e6394860",
   "metadata": {},
   "outputs": [],
   "source": [
    "def BinarySearch(li, ele):\n",
    "    si = 0\n",
    "    ei = len(li) - 1\n",
    "    \n",
    "    while si <= ei:\n",
    "        mid = (si + ei) // 2\n",
    "        \n",
    "        if li[mid] == ele:\n",
    "            return True\n",
    "        elif li[mid] < ele:\n",
    "            si = mid + 1\n",
    "        else:\n",
    "            ei = mid - 1\n",
    "    return False\n",
    "            "
   ]
  },
  {
   "cell_type": "code",
   "execution_count": 9,
   "id": "e3e58ab8",
   "metadata": {},
   "outputs": [
    {
     "name": "stdout",
     "output_type": "stream",
     "text": [
      "False\n"
     ]
    }
   ],
   "source": [
    "li = [1, 2, 3, 4, 5, 6]\n",
    "print(BinarySearch(li, 10))"
   ]
  },
  {
   "cell_type": "code",
   "execution_count": 12,
   "id": "d33914ec",
   "metadata": {},
   "outputs": [],
   "source": [
    "def BinarySearch(li, ele):\n",
    "    si = 0\n",
    "    ei = len(li) - 1\n",
    "    cnt = 0\n",
    "    while si <= ei:\n",
    "        mid = (si + ei) // 2\n",
    "        \n",
    "        if li[mid] == ele:\n",
    "            return True\n",
    "        elif li[mid] < ele:\n",
    "            si = mid + 1\n",
    "        else:\n",
    "            ei = mid - 1\n",
    "        cnt += 1\n",
    "    \n",
    "    print(cnt)\n",
    "    return False"
   ]
  },
  {
   "cell_type": "code",
   "execution_count": 13,
   "id": "f474b4fa",
   "metadata": {},
   "outputs": [
    {
     "name": "stdout",
     "output_type": "stream",
     "text": [
      "10\n",
      "False\n"
     ]
    }
   ],
   "source": [
    "li = []\n",
    "for i in range(1, 1001):\n",
    "    li.append(i)\n",
    "    \n",
    "print(BinarySearch(li, 100010))"
   ]
  },
  {
   "cell_type": "code",
   "execution_count": 14,
   "id": "a6b26a6a",
   "metadata": {},
   "outputs": [],
   "source": [
    "def BinearySearchRec(li, ele, si, ei):\n",
    "    # Base case\n",
    "    \n",
    "    if si > ei:\n",
    "        return False\n",
    "    \n",
    "    mid = (si + ei) // 2\n",
    "    \n",
    "    if li[mid] == ele:\n",
    "        return True\n",
    "    elif li[mid] < ele:\n",
    "        return BinearySearchRec(li, ele, mid + 1, ei)\n",
    "    else:\n",
    "        return BinearySearchRec(li, ele, si, mid - 1)\n",
    "    \n",
    "    "
   ]
  },
  {
   "cell_type": "code",
   "execution_count": 17,
   "id": "dffc8bc5",
   "metadata": {},
   "outputs": [
    {
     "name": "stdout",
     "output_type": "stream",
     "text": [
      "True\n"
     ]
    }
   ],
   "source": [
    "li = []\n",
    "for i in range(1, 1001):\n",
    "    li.append(i)\n",
    "    \n",
    "print(BinearySearchRec(li, 100, 0, len(li) - 1))"
   ]
  },
  {
   "cell_type": "markdown",
   "id": "cc679aee",
   "metadata": {},
   "source": [
    "# Sorting"
   ]
  },
  {
   "cell_type": "code",
   "execution_count": 18,
   "id": "550565f6",
   "metadata": {},
   "outputs": [],
   "source": [
    "# Bubble Sort"
   ]
  },
  {
   "cell_type": "code",
   "execution_count": 22,
   "id": "00fd01d4",
   "metadata": {},
   "outputs": [],
   "source": [
    "def bubbleSort(li):\n",
    "    n = len(li)\n",
    "    for i in range(n - 1):\n",
    "        for j in range(n-i-1):\n",
    "            if li[j] > li[j+1]:\n",
    "                temp = li[j]\n",
    "                li[j]  = li[j+1]\n",
    "                li[j+1] = temp\n",
    "                \n",
    "    return li\n",
    "    "
   ]
  },
  {
   "cell_type": "code",
   "execution_count": 23,
   "id": "b3816a46",
   "metadata": {},
   "outputs": [
    {
     "name": "stdout",
     "output_type": "stream",
     "text": [
      "[2, 4, 8, 10]\n"
     ]
    }
   ],
   "source": [
    "li = [4, 10, 2, 8]\n",
    "print(bubbleSort(li))"
   ]
  },
  {
   "cell_type": "code",
   "execution_count": 29,
   "id": "f148900b",
   "metadata": {},
   "outputs": [],
   "source": [
    "#Selectio Sort\n",
    "\n",
    "def selectionSort(li):\n",
    "    n = len(li)\n",
    "    \n",
    "    for i in range(n - 1):\n",
    "        mini = li[i]\n",
    "        miniInd = i\n",
    "        \n",
    "        for j in range(i+1, n):\n",
    "            if mini > li[j]:\n",
    "                mini = li[j]\n",
    "                miniInd = j\n",
    "        temp = li[i]\n",
    "        li[i] = li[miniInd]\n",
    "        li[miniInd] = temp\n",
    "        \n",
    "    return li\n"
   ]
  },
  {
   "cell_type": "code",
   "execution_count": 30,
   "id": "6f052bec",
   "metadata": {},
   "outputs": [
    {
     "name": "stdout",
     "output_type": "stream",
     "text": [
      "[2, 4, 8, 10]\n"
     ]
    }
   ],
   "source": [
    "li = [4, 10, 2, 8]\n",
    "print(selectionSort(li))"
   ]
  },
  {
   "cell_type": "code",
   "execution_count": 44,
   "id": "5a30a817",
   "metadata": {},
   "outputs": [],
   "source": [
    "# Insertion sort\n",
    "\n",
    "def InsertionSort(li):\n",
    "    n = len(li)\n",
    "    \n",
    "    for i in range(1, n):\n",
    "        for j in range(i-1, -1, -1):\n",
    "            if li[j] > li[j+1]:\n",
    "                temp = li[j]\n",
    "                li[j] = li[j+1]\n",
    "                li[j+1] = temp\n",
    "            else:\n",
    "                break\n",
    "    return li\n"
   ]
  },
  {
   "cell_type": "code",
   "execution_count": 45,
   "id": "bcfdf4e1",
   "metadata": {},
   "outputs": [
    {
     "name": "stdout",
     "output_type": "stream",
     "text": [
      "[2, 4, 8, 10]\n"
     ]
    }
   ],
   "source": [
    "li = [4, 10, 2, 8]\n",
    "print(InsertionSort(li))"
   ]
  },
  {
   "cell_type": "code",
   "execution_count": null,
   "id": "dba9e67d",
   "metadata": {},
   "outputs": [],
   "source": []
  },
  {
   "cell_type": "code",
   "execution_count": null,
   "id": "fcee302c",
   "metadata": {},
   "outputs": [],
   "source": []
  },
  {
   "cell_type": "code",
   "execution_count": null,
   "id": "58159228",
   "metadata": {},
   "outputs": [],
   "source": []
  }
 ],
 "metadata": {
  "kernelspec": {
   "display_name": "Python 3 (ipykernel)",
   "language": "python",
   "name": "python3"
  },
  "language_info": {
   "codemirror_mode": {
    "name": "ipython",
    "version": 3
   },
   "file_extension": ".py",
   "mimetype": "text/x-python",
   "name": "python",
   "nbconvert_exporter": "python",
   "pygments_lexer": "ipython3",
   "version": "3.9.7"
  }
 },
 "nbformat": 4,
 "nbformat_minor": 5
}
